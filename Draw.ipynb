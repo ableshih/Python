{
  "nbformat": 4,
  "nbformat_minor": 0,
  "metadata": {
    "colab": {
      "name": "Draw.ipynb",
      "provenance": []
    },
    "kernelspec": {
      "name": "python3",
      "display_name": "Python 3"
    },
    "language_info": {
      "name": "python"
    }
  },
  "cells": [
    {
      "cell_type": "code",
      "source": [
        ""
      ],
      "metadata": {
        "id": "X01e7bXx5s58"
      },
      "execution_count": null,
      "outputs": []
    },
    {
      "cell_type": "code",
      "source": [
        "# 给星星上色\n",
        "# 为了给星星上色，我们首先使用 设置颜色t.color(“red”,“red”)。然后我们使用begin_fill和end_fill命令开始和停止填充区域。这是：\n",
        "\n",
        "import turtle as t\n",
        "\n",
        "t.speed(0)\n",
        "\n",
        "angle=150\n",
        "side=100\n",
        "pointies = 10\n",
        "ROTATION = 360/pointies\n",
        "\n",
        "angle_left=angle\n",
        "angle_right=angle\n",
        "\n",
        "t.color(\"black\",\"red\")\n",
        "\n",
        "t.begin_fill()\n",
        "\n",
        "for p in range(pointies):\n",
        "    t.forward(side)\n",
        "    t.right(angle_right)\n",
        "    t.forward(side)\n",
        "    t.left(angle_left)\n",
        "    t.right(ROTATION)\n",
        "\n",
        "t.end_fill()\n",
        "\n",
        "\n",
        "# 在上面的代码中，我们还添加了一个语句t.speed(0)来加快速度\n",
        "\n",
        "\n",
        "# 我们现在可以用任意数量的任意颜色的点绘制星星。这里有些例子：\n",
        "# -----------------------------------\n",
        "# ©著作权归作者所有：来自51CTO博客作者一手代码一手诗的原创作品，请联系作者获取转载授权，否则将追究法律责任\n",
        "# 教你学画画01---如何用 Python Turtle 绘制实心星星\n",
        "# https://blog.51cto.com/u_14303514/2948133"
      ],
      "metadata": {
        "colab": {
          "base_uri": "https://localhost:8080/",
          "height": 382
        },
        "id": "4lY3MJnB-22u",
        "outputId": "10896d19-2d32-4cb3-b811-ecb2877e3a74"
      },
      "execution_count": 4,
      "outputs": [
        {
          "output_type": "error",
          "ename": "TclError",
          "evalue": "ignored",
          "traceback": [
            "\u001b[0;31m---------------------------------------------------------------------------\u001b[0m",
            "\u001b[0;31mTclError\u001b[0m                                  Traceback (most recent call last)",
            "\u001b[0;32m<ipython-input-4-d80f1aafe45f>\u001b[0m in \u001b[0;36m<module>\u001b[0;34m()\u001b[0m\n\u001b[1;32m     14\u001b[0m \u001b[0mangle_right\u001b[0m\u001b[0;34m=\u001b[0m\u001b[0mangle\u001b[0m\u001b[0;34m\u001b[0m\u001b[0;34m\u001b[0m\u001b[0m\n\u001b[1;32m     15\u001b[0m \u001b[0;34m\u001b[0m\u001b[0m\n\u001b[0;32m---> 16\u001b[0;31m \u001b[0mt\u001b[0m\u001b[0;34m.\u001b[0m\u001b[0mcolor\u001b[0m\u001b[0;34m(\u001b[0m\u001b[0;34m\"black\"\u001b[0m\u001b[0;34m,\u001b[0m\u001b[0;34m\"red\"\u001b[0m\u001b[0;34m)\u001b[0m\u001b[0;34m\u001b[0m\u001b[0;34m\u001b[0m\u001b[0m\n\u001b[0m\u001b[1;32m     17\u001b[0m \u001b[0;34m\u001b[0m\u001b[0m\n\u001b[1;32m     18\u001b[0m \u001b[0mt\u001b[0m\u001b[0;34m.\u001b[0m\u001b[0mbegin_fill\u001b[0m\u001b[0;34m(\u001b[0m\u001b[0;34m)\u001b[0m\u001b[0;34m\u001b[0m\u001b[0;34m\u001b[0m\u001b[0m\n",
            "\u001b[0;32m/usr/lib/python3.7/turtle.py\u001b[0m in \u001b[0;36mcolor\u001b[0;34m(*args)\u001b[0m\n",
            "\u001b[0;32m/usr/lib/python3.7/turtle.py\u001b[0m in \u001b[0;36m__init__\u001b[0;34m(self, shape, undobuffersize, visible)\u001b[0m\n\u001b[1;32m   3810\u001b[0m                  visible=_CFG[\"visible\"]):\n\u001b[1;32m   3811\u001b[0m         \u001b[0;32mif\u001b[0m \u001b[0mTurtle\u001b[0m\u001b[0;34m.\u001b[0m\u001b[0m_screen\u001b[0m \u001b[0;32mis\u001b[0m \u001b[0;32mNone\u001b[0m\u001b[0;34m:\u001b[0m\u001b[0;34m\u001b[0m\u001b[0;34m\u001b[0m\u001b[0m\n\u001b[0;32m-> 3812\u001b[0;31m             \u001b[0mTurtle\u001b[0m\u001b[0;34m.\u001b[0m\u001b[0m_screen\u001b[0m \u001b[0;34m=\u001b[0m \u001b[0mScreen\u001b[0m\u001b[0;34m(\u001b[0m\u001b[0;34m)\u001b[0m\u001b[0;34m\u001b[0m\u001b[0;34m\u001b[0m\u001b[0m\n\u001b[0m\u001b[1;32m   3813\u001b[0m         RawTurtle.__init__(self, Turtle._screen,\n\u001b[1;32m   3814\u001b[0m                            \u001b[0mshape\u001b[0m\u001b[0;34m=\u001b[0m\u001b[0mshape\u001b[0m\u001b[0;34m,\u001b[0m\u001b[0;34m\u001b[0m\u001b[0;34m\u001b[0m\u001b[0m\n",
            "\u001b[0;32m/usr/lib/python3.7/turtle.py\u001b[0m in \u001b[0;36mScreen\u001b[0;34m()\u001b[0m\n\u001b[1;32m   3660\u001b[0m     else return the existing one.\"\"\"\n\u001b[1;32m   3661\u001b[0m     \u001b[0;32mif\u001b[0m \u001b[0mTurtle\u001b[0m\u001b[0;34m.\u001b[0m\u001b[0m_screen\u001b[0m \u001b[0;32mis\u001b[0m \u001b[0;32mNone\u001b[0m\u001b[0;34m:\u001b[0m\u001b[0;34m\u001b[0m\u001b[0;34m\u001b[0m\u001b[0m\n\u001b[0;32m-> 3662\u001b[0;31m         \u001b[0mTurtle\u001b[0m\u001b[0;34m.\u001b[0m\u001b[0m_screen\u001b[0m \u001b[0;34m=\u001b[0m \u001b[0m_Screen\u001b[0m\u001b[0;34m(\u001b[0m\u001b[0;34m)\u001b[0m\u001b[0;34m\u001b[0m\u001b[0;34m\u001b[0m\u001b[0m\n\u001b[0m\u001b[1;32m   3663\u001b[0m     \u001b[0;32mreturn\u001b[0m \u001b[0mTurtle\u001b[0m\u001b[0;34m.\u001b[0m\u001b[0m_screen\u001b[0m\u001b[0;34m\u001b[0m\u001b[0;34m\u001b[0m\u001b[0m\n\u001b[1;32m   3664\u001b[0m \u001b[0;34m\u001b[0m\u001b[0m\n",
            "\u001b[0;32m/usr/lib/python3.7/turtle.py\u001b[0m in \u001b[0;36m__init__\u001b[0;34m(self)\u001b[0m\n\u001b[1;32m   3676\u001b[0m         \u001b[0;31m# preserved (perhaps by passing it as an optional parameter)\u001b[0m\u001b[0;34m\u001b[0m\u001b[0;34m\u001b[0m\u001b[0;34m\u001b[0m\u001b[0m\n\u001b[1;32m   3677\u001b[0m         \u001b[0;32mif\u001b[0m \u001b[0m_Screen\u001b[0m\u001b[0;34m.\u001b[0m\u001b[0m_root\u001b[0m \u001b[0;32mis\u001b[0m \u001b[0;32mNone\u001b[0m\u001b[0;34m:\u001b[0m\u001b[0;34m\u001b[0m\u001b[0;34m\u001b[0m\u001b[0m\n\u001b[0;32m-> 3678\u001b[0;31m             \u001b[0m_Screen\u001b[0m\u001b[0;34m.\u001b[0m\u001b[0m_root\u001b[0m \u001b[0;34m=\u001b[0m \u001b[0mself\u001b[0m\u001b[0;34m.\u001b[0m\u001b[0m_root\u001b[0m \u001b[0;34m=\u001b[0m \u001b[0m_Root\u001b[0m\u001b[0;34m(\u001b[0m\u001b[0;34m)\u001b[0m\u001b[0;34m\u001b[0m\u001b[0;34m\u001b[0m\u001b[0m\n\u001b[0m\u001b[1;32m   3679\u001b[0m             \u001b[0mself\u001b[0m\u001b[0;34m.\u001b[0m\u001b[0m_root\u001b[0m\u001b[0;34m.\u001b[0m\u001b[0mtitle\u001b[0m\u001b[0;34m(\u001b[0m\u001b[0m_Screen\u001b[0m\u001b[0;34m.\u001b[0m\u001b[0m_title\u001b[0m\u001b[0;34m)\u001b[0m\u001b[0;34m\u001b[0m\u001b[0;34m\u001b[0m\u001b[0m\n\u001b[1;32m   3680\u001b[0m             \u001b[0mself\u001b[0m\u001b[0;34m.\u001b[0m\u001b[0m_root\u001b[0m\u001b[0;34m.\u001b[0m\u001b[0mondestroy\u001b[0m\u001b[0;34m(\u001b[0m\u001b[0mself\u001b[0m\u001b[0;34m.\u001b[0m\u001b[0m_destroy\u001b[0m\u001b[0;34m)\u001b[0m\u001b[0;34m\u001b[0m\u001b[0;34m\u001b[0m\u001b[0m\n",
            "\u001b[0;32m/usr/lib/python3.7/turtle.py\u001b[0m in \u001b[0;36m__init__\u001b[0;34m(self)\u001b[0m\n\u001b[1;32m    432\u001b[0m     \u001b[0;34m\"\"\"Root class for Screen based on Tkinter.\"\"\"\u001b[0m\u001b[0;34m\u001b[0m\u001b[0;34m\u001b[0m\u001b[0m\n\u001b[1;32m    433\u001b[0m     \u001b[0;32mdef\u001b[0m \u001b[0m__init__\u001b[0m\u001b[0;34m(\u001b[0m\u001b[0mself\u001b[0m\u001b[0;34m)\u001b[0m\u001b[0;34m:\u001b[0m\u001b[0;34m\u001b[0m\u001b[0;34m\u001b[0m\u001b[0m\n\u001b[0;32m--> 434\u001b[0;31m         \u001b[0mTK\u001b[0m\u001b[0;34m.\u001b[0m\u001b[0mTk\u001b[0m\u001b[0;34m.\u001b[0m\u001b[0m__init__\u001b[0m\u001b[0;34m(\u001b[0m\u001b[0mself\u001b[0m\u001b[0;34m)\u001b[0m\u001b[0;34m\u001b[0m\u001b[0;34m\u001b[0m\u001b[0m\n\u001b[0m\u001b[1;32m    435\u001b[0m \u001b[0;34m\u001b[0m\u001b[0m\n\u001b[1;32m    436\u001b[0m     \u001b[0;32mdef\u001b[0m \u001b[0msetupcanvas\u001b[0m\u001b[0;34m(\u001b[0m\u001b[0mself\u001b[0m\u001b[0;34m,\u001b[0m \u001b[0mwidth\u001b[0m\u001b[0;34m,\u001b[0m \u001b[0mheight\u001b[0m\u001b[0;34m,\u001b[0m \u001b[0mcwidth\u001b[0m\u001b[0;34m,\u001b[0m \u001b[0mcheight\u001b[0m\u001b[0;34m)\u001b[0m\u001b[0;34m:\u001b[0m\u001b[0;34m\u001b[0m\u001b[0;34m\u001b[0m\u001b[0m\n",
            "\u001b[0;32m/usr/lib/python3.7/tkinter/__init__.py\u001b[0m in \u001b[0;36m__init__\u001b[0;34m(self, screenName, baseName, className, useTk, sync, use)\u001b[0m\n\u001b[1;32m   2021\u001b[0m                 \u001b[0mbaseName\u001b[0m \u001b[0;34m=\u001b[0m \u001b[0mbaseName\u001b[0m \u001b[0;34m+\u001b[0m \u001b[0mext\u001b[0m\u001b[0;34m\u001b[0m\u001b[0;34m\u001b[0m\u001b[0m\n\u001b[1;32m   2022\u001b[0m         \u001b[0minteractive\u001b[0m \u001b[0;34m=\u001b[0m \u001b[0;36m0\u001b[0m\u001b[0;34m\u001b[0m\u001b[0;34m\u001b[0m\u001b[0m\n\u001b[0;32m-> 2023\u001b[0;31m         \u001b[0mself\u001b[0m\u001b[0;34m.\u001b[0m\u001b[0mtk\u001b[0m \u001b[0;34m=\u001b[0m \u001b[0m_tkinter\u001b[0m\u001b[0;34m.\u001b[0m\u001b[0mcreate\u001b[0m\u001b[0;34m(\u001b[0m\u001b[0mscreenName\u001b[0m\u001b[0;34m,\u001b[0m \u001b[0mbaseName\u001b[0m\u001b[0;34m,\u001b[0m \u001b[0mclassName\u001b[0m\u001b[0;34m,\u001b[0m \u001b[0minteractive\u001b[0m\u001b[0;34m,\u001b[0m \u001b[0mwantobjects\u001b[0m\u001b[0;34m,\u001b[0m \u001b[0museTk\u001b[0m\u001b[0;34m,\u001b[0m \u001b[0msync\u001b[0m\u001b[0;34m,\u001b[0m \u001b[0muse\u001b[0m\u001b[0;34m)\u001b[0m\u001b[0;34m\u001b[0m\u001b[0;34m\u001b[0m\u001b[0m\n\u001b[0m\u001b[1;32m   2024\u001b[0m         \u001b[0;32mif\u001b[0m \u001b[0museTk\u001b[0m\u001b[0;34m:\u001b[0m\u001b[0;34m\u001b[0m\u001b[0;34m\u001b[0m\u001b[0m\n\u001b[1;32m   2025\u001b[0m             \u001b[0mself\u001b[0m\u001b[0;34m.\u001b[0m\u001b[0m_loadtk\u001b[0m\u001b[0;34m(\u001b[0m\u001b[0;34m)\u001b[0m\u001b[0;34m\u001b[0m\u001b[0;34m\u001b[0m\u001b[0m\n",
            "\u001b[0;31mTclError\u001b[0m: no display name and no $DISPLAY environment variable"
          ]
        }
      ]
    },
    {
      "cell_type": "code",
      "source": [
        "# 旋转星星\n",
        "# 当我们可以旋转星星时，为什么要停止画星星呢！为此，我们使用嵌套的 for 循环。这意味着循环内的循环\n",
        "\n",
        "\n",
        "import turtle as t\n",
        "\n",
        "t.speed(0)\n",
        "angle=150\n",
        "side=100\n",
        "pointies = 5\n",
        "ROTATION = 360/pointies\n",
        "angle_left=angle\n",
        "angle_right=angle\n",
        "\n",
        "t.color(\"red\",\"black\")\n",
        "\n",
        "for r in range(10):\n",
        "    t.begin_fill()\n",
        "    for p in range(pointies):\n",
        "        t.forward(side)\n",
        "        t.right(angle_right)\n",
        "        t.forward(side)\n",
        "        t.left(angle_left)\n",
        "        t.right(ROTATION)\n",
        "\n",
        "t.end_fill()\n",
        "\n",
        "t.right(2)\n",
        "\n",
        "# -----------------------------------\n",
        "# ©著作权归作者所有：来自51CTO博客作者一手代码一手诗的原创作品，请联系作者获取转载授权，否则将追究法律责任\n",
        "# 教你学画画01---如何用 Python Turtle 绘制实心星星\n",
        "# https://blog.51cto.com/u_14303514/2948133"
      ],
      "metadata": {
        "colab": {
          "base_uri": "https://localhost:8080/",
          "height": 382
        },
        "id": "Bta7t7Ez-26c",
        "outputId": "69a7d230-7590-46d5-e143-e56e4a225e45"
      },
      "execution_count": 5,
      "outputs": [
        {
          "output_type": "error",
          "ename": "TclError",
          "evalue": "ignored",
          "traceback": [
            "\u001b[0;31m---------------------------------------------------------------------------\u001b[0m",
            "\u001b[0;31mTclError\u001b[0m                                  Traceback (most recent call last)",
            "\u001b[0;32m<ipython-input-5-68817d04c83b>\u001b[0m in \u001b[0;36m<module>\u001b[0;34m()\u001b[0m\n\u001b[1;32m      5\u001b[0m \u001b[0;32mimport\u001b[0m \u001b[0mturtle\u001b[0m \u001b[0;32mas\u001b[0m \u001b[0mt\u001b[0m\u001b[0;34m\u001b[0m\u001b[0;34m\u001b[0m\u001b[0m\n\u001b[1;32m      6\u001b[0m \u001b[0;34m\u001b[0m\u001b[0m\n\u001b[0;32m----> 7\u001b[0;31m \u001b[0mt\u001b[0m\u001b[0;34m.\u001b[0m\u001b[0mspeed\u001b[0m\u001b[0;34m(\u001b[0m\u001b[0;36m0\u001b[0m\u001b[0;34m)\u001b[0m\u001b[0;34m\u001b[0m\u001b[0;34m\u001b[0m\u001b[0m\n\u001b[0m\u001b[1;32m      8\u001b[0m \u001b[0mangle\u001b[0m\u001b[0;34m=\u001b[0m\u001b[0;36m150\u001b[0m\u001b[0;34m\u001b[0m\u001b[0;34m\u001b[0m\u001b[0m\n\u001b[1;32m      9\u001b[0m \u001b[0mside\u001b[0m\u001b[0;34m=\u001b[0m\u001b[0;36m100\u001b[0m\u001b[0;34m\u001b[0m\u001b[0;34m\u001b[0m\u001b[0m\n",
            "\u001b[0;32m/usr/lib/python3.7/turtle.py\u001b[0m in \u001b[0;36mspeed\u001b[0;34m(speed)\u001b[0m\n",
            "\u001b[0;32m/usr/lib/python3.7/turtle.py\u001b[0m in \u001b[0;36m__init__\u001b[0;34m(self, shape, undobuffersize, visible)\u001b[0m\n\u001b[1;32m   3810\u001b[0m                  visible=_CFG[\"visible\"]):\n\u001b[1;32m   3811\u001b[0m         \u001b[0;32mif\u001b[0m \u001b[0mTurtle\u001b[0m\u001b[0;34m.\u001b[0m\u001b[0m_screen\u001b[0m \u001b[0;32mis\u001b[0m \u001b[0;32mNone\u001b[0m\u001b[0;34m:\u001b[0m\u001b[0;34m\u001b[0m\u001b[0;34m\u001b[0m\u001b[0m\n\u001b[0;32m-> 3812\u001b[0;31m             \u001b[0mTurtle\u001b[0m\u001b[0;34m.\u001b[0m\u001b[0m_screen\u001b[0m \u001b[0;34m=\u001b[0m \u001b[0mScreen\u001b[0m\u001b[0;34m(\u001b[0m\u001b[0;34m)\u001b[0m\u001b[0;34m\u001b[0m\u001b[0;34m\u001b[0m\u001b[0m\n\u001b[0m\u001b[1;32m   3813\u001b[0m         RawTurtle.__init__(self, Turtle._screen,\n\u001b[1;32m   3814\u001b[0m                            \u001b[0mshape\u001b[0m\u001b[0;34m=\u001b[0m\u001b[0mshape\u001b[0m\u001b[0;34m,\u001b[0m\u001b[0;34m\u001b[0m\u001b[0;34m\u001b[0m\u001b[0m\n",
            "\u001b[0;32m/usr/lib/python3.7/turtle.py\u001b[0m in \u001b[0;36mScreen\u001b[0;34m()\u001b[0m\n\u001b[1;32m   3660\u001b[0m     else return the existing one.\"\"\"\n\u001b[1;32m   3661\u001b[0m     \u001b[0;32mif\u001b[0m \u001b[0mTurtle\u001b[0m\u001b[0;34m.\u001b[0m\u001b[0m_screen\u001b[0m \u001b[0;32mis\u001b[0m \u001b[0;32mNone\u001b[0m\u001b[0;34m:\u001b[0m\u001b[0;34m\u001b[0m\u001b[0;34m\u001b[0m\u001b[0m\n\u001b[0;32m-> 3662\u001b[0;31m         \u001b[0mTurtle\u001b[0m\u001b[0;34m.\u001b[0m\u001b[0m_screen\u001b[0m \u001b[0;34m=\u001b[0m \u001b[0m_Screen\u001b[0m\u001b[0;34m(\u001b[0m\u001b[0;34m)\u001b[0m\u001b[0;34m\u001b[0m\u001b[0;34m\u001b[0m\u001b[0m\n\u001b[0m\u001b[1;32m   3663\u001b[0m     \u001b[0;32mreturn\u001b[0m \u001b[0mTurtle\u001b[0m\u001b[0;34m.\u001b[0m\u001b[0m_screen\u001b[0m\u001b[0;34m\u001b[0m\u001b[0;34m\u001b[0m\u001b[0m\n\u001b[1;32m   3664\u001b[0m \u001b[0;34m\u001b[0m\u001b[0m\n",
            "\u001b[0;32m/usr/lib/python3.7/turtle.py\u001b[0m in \u001b[0;36m__init__\u001b[0;34m(self)\u001b[0m\n\u001b[1;32m   3676\u001b[0m         \u001b[0;31m# preserved (perhaps by passing it as an optional parameter)\u001b[0m\u001b[0;34m\u001b[0m\u001b[0;34m\u001b[0m\u001b[0;34m\u001b[0m\u001b[0m\n\u001b[1;32m   3677\u001b[0m         \u001b[0;32mif\u001b[0m \u001b[0m_Screen\u001b[0m\u001b[0;34m.\u001b[0m\u001b[0m_root\u001b[0m \u001b[0;32mis\u001b[0m \u001b[0;32mNone\u001b[0m\u001b[0;34m:\u001b[0m\u001b[0;34m\u001b[0m\u001b[0;34m\u001b[0m\u001b[0m\n\u001b[0;32m-> 3678\u001b[0;31m             \u001b[0m_Screen\u001b[0m\u001b[0;34m.\u001b[0m\u001b[0m_root\u001b[0m \u001b[0;34m=\u001b[0m \u001b[0mself\u001b[0m\u001b[0;34m.\u001b[0m\u001b[0m_root\u001b[0m \u001b[0;34m=\u001b[0m \u001b[0m_Root\u001b[0m\u001b[0;34m(\u001b[0m\u001b[0;34m)\u001b[0m\u001b[0;34m\u001b[0m\u001b[0;34m\u001b[0m\u001b[0m\n\u001b[0m\u001b[1;32m   3679\u001b[0m             \u001b[0mself\u001b[0m\u001b[0;34m.\u001b[0m\u001b[0m_root\u001b[0m\u001b[0;34m.\u001b[0m\u001b[0mtitle\u001b[0m\u001b[0;34m(\u001b[0m\u001b[0m_Screen\u001b[0m\u001b[0;34m.\u001b[0m\u001b[0m_title\u001b[0m\u001b[0;34m)\u001b[0m\u001b[0;34m\u001b[0m\u001b[0;34m\u001b[0m\u001b[0m\n\u001b[1;32m   3680\u001b[0m             \u001b[0mself\u001b[0m\u001b[0;34m.\u001b[0m\u001b[0m_root\u001b[0m\u001b[0;34m.\u001b[0m\u001b[0mondestroy\u001b[0m\u001b[0;34m(\u001b[0m\u001b[0mself\u001b[0m\u001b[0;34m.\u001b[0m\u001b[0m_destroy\u001b[0m\u001b[0;34m)\u001b[0m\u001b[0;34m\u001b[0m\u001b[0;34m\u001b[0m\u001b[0m\n",
            "\u001b[0;32m/usr/lib/python3.7/turtle.py\u001b[0m in \u001b[0;36m__init__\u001b[0;34m(self)\u001b[0m\n\u001b[1;32m    432\u001b[0m     \u001b[0;34m\"\"\"Root class for Screen based on Tkinter.\"\"\"\u001b[0m\u001b[0;34m\u001b[0m\u001b[0;34m\u001b[0m\u001b[0m\n\u001b[1;32m    433\u001b[0m     \u001b[0;32mdef\u001b[0m \u001b[0m__init__\u001b[0m\u001b[0;34m(\u001b[0m\u001b[0mself\u001b[0m\u001b[0;34m)\u001b[0m\u001b[0;34m:\u001b[0m\u001b[0;34m\u001b[0m\u001b[0;34m\u001b[0m\u001b[0m\n\u001b[0;32m--> 434\u001b[0;31m         \u001b[0mTK\u001b[0m\u001b[0;34m.\u001b[0m\u001b[0mTk\u001b[0m\u001b[0;34m.\u001b[0m\u001b[0m__init__\u001b[0m\u001b[0;34m(\u001b[0m\u001b[0mself\u001b[0m\u001b[0;34m)\u001b[0m\u001b[0;34m\u001b[0m\u001b[0;34m\u001b[0m\u001b[0m\n\u001b[0m\u001b[1;32m    435\u001b[0m \u001b[0;34m\u001b[0m\u001b[0m\n\u001b[1;32m    436\u001b[0m     \u001b[0;32mdef\u001b[0m \u001b[0msetupcanvas\u001b[0m\u001b[0;34m(\u001b[0m\u001b[0mself\u001b[0m\u001b[0;34m,\u001b[0m \u001b[0mwidth\u001b[0m\u001b[0;34m,\u001b[0m \u001b[0mheight\u001b[0m\u001b[0;34m,\u001b[0m \u001b[0mcwidth\u001b[0m\u001b[0;34m,\u001b[0m \u001b[0mcheight\u001b[0m\u001b[0;34m)\u001b[0m\u001b[0;34m:\u001b[0m\u001b[0;34m\u001b[0m\u001b[0;34m\u001b[0m\u001b[0m\n",
            "\u001b[0;32m/usr/lib/python3.7/tkinter/__init__.py\u001b[0m in \u001b[0;36m__init__\u001b[0;34m(self, screenName, baseName, className, useTk, sync, use)\u001b[0m\n\u001b[1;32m   2021\u001b[0m                 \u001b[0mbaseName\u001b[0m \u001b[0;34m=\u001b[0m \u001b[0mbaseName\u001b[0m \u001b[0;34m+\u001b[0m \u001b[0mext\u001b[0m\u001b[0;34m\u001b[0m\u001b[0;34m\u001b[0m\u001b[0m\n\u001b[1;32m   2022\u001b[0m         \u001b[0minteractive\u001b[0m \u001b[0;34m=\u001b[0m \u001b[0;36m0\u001b[0m\u001b[0;34m\u001b[0m\u001b[0;34m\u001b[0m\u001b[0m\n\u001b[0;32m-> 2023\u001b[0;31m         \u001b[0mself\u001b[0m\u001b[0;34m.\u001b[0m\u001b[0mtk\u001b[0m \u001b[0;34m=\u001b[0m \u001b[0m_tkinter\u001b[0m\u001b[0;34m.\u001b[0m\u001b[0mcreate\u001b[0m\u001b[0;34m(\u001b[0m\u001b[0mscreenName\u001b[0m\u001b[0;34m,\u001b[0m \u001b[0mbaseName\u001b[0m\u001b[0;34m,\u001b[0m \u001b[0mclassName\u001b[0m\u001b[0;34m,\u001b[0m \u001b[0minteractive\u001b[0m\u001b[0;34m,\u001b[0m \u001b[0mwantobjects\u001b[0m\u001b[0;34m,\u001b[0m \u001b[0museTk\u001b[0m\u001b[0;34m,\u001b[0m \u001b[0msync\u001b[0m\u001b[0;34m,\u001b[0m \u001b[0muse\u001b[0m\u001b[0;34m)\u001b[0m\u001b[0;34m\u001b[0m\u001b[0;34m\u001b[0m\u001b[0m\n\u001b[0m\u001b[1;32m   2024\u001b[0m         \u001b[0;32mif\u001b[0m \u001b[0museTk\u001b[0m\u001b[0;34m:\u001b[0m\u001b[0;34m\u001b[0m\u001b[0;34m\u001b[0m\u001b[0m\n\u001b[1;32m   2025\u001b[0m             \u001b[0mself\u001b[0m\u001b[0;34m.\u001b[0m\u001b[0m_loadtk\u001b[0m\u001b[0;34m(\u001b[0m\u001b[0;34m)\u001b[0m\u001b[0;34m\u001b[0m\u001b[0;34m\u001b[0m\u001b[0m\n",
            "\u001b[0;31mTclError\u001b[0m: no display name and no $DISPLAY environment variable"
          ]
        }
      ]
    },
    {
      "cell_type": "code",
      "source": [
        "# 繪製實心圓：\n",
        "\n",
        "pha=0:pi/20:2*pi;%角度[0,2*pi]r=2;%半徑\n",
        "\n",
        "x=r*cos(alpha);\n",
        "\n",
        "y=r*sin(alpha);\n",
        "\n",
        "plot(x,y,'-')\n",
        "\n",
        "axis equal\n",
        "\n",
        "fill(x,y,'r');%用紅色填充"
      ],
      "metadata": {
        "id": "wk4JW4-T-29M"
      },
      "execution_count": null,
      "outputs": []
    },
    {
      "cell_type": "code",
      "source": [
        "from turtle import *\n",
        "\n",
        "color('red', 'yellow')\n",
        "begin_fill()\n",
        "while True:\n",
        "    forward(200)\n",
        "    left(170)\n",
        "    if abs(pos()) < 1:\n",
        "        break\n",
        "end_fill()\n",
        "done()"
      ],
      "metadata": {
        "colab": {
          "base_uri": "https://localhost:8080/",
          "height": 382
        },
        "id": "tr008wu68_a4",
        "outputId": "22d42a18-370a-40de-93af-f29185ed54e9"
      },
      "execution_count": 6,
      "outputs": [
        {
          "output_type": "error",
          "ename": "TclError",
          "evalue": "ignored",
          "traceback": [
            "\u001b[0;31m---------------------------------------------------------------------------\u001b[0m",
            "\u001b[0;31mTclError\u001b[0m                                  Traceback (most recent call last)",
            "\u001b[0;32m<ipython-input-6-3c084836a0ea>\u001b[0m in \u001b[0;36m<module>\u001b[0;34m()\u001b[0m\n\u001b[1;32m      1\u001b[0m \u001b[0;32mfrom\u001b[0m \u001b[0mturtle\u001b[0m \u001b[0;32mimport\u001b[0m \u001b[0;34m*\u001b[0m\u001b[0;34m\u001b[0m\u001b[0;34m\u001b[0m\u001b[0m\n\u001b[1;32m      2\u001b[0m \u001b[0;34m\u001b[0m\u001b[0m\n\u001b[0;32m----> 3\u001b[0;31m \u001b[0mcolor\u001b[0m\u001b[0;34m(\u001b[0m\u001b[0;34m'red'\u001b[0m\u001b[0;34m,\u001b[0m \u001b[0;34m'yellow'\u001b[0m\u001b[0;34m)\u001b[0m\u001b[0;34m\u001b[0m\u001b[0;34m\u001b[0m\u001b[0m\n\u001b[0m\u001b[1;32m      4\u001b[0m \u001b[0mbegin_fill\u001b[0m\u001b[0;34m(\u001b[0m\u001b[0;34m)\u001b[0m\u001b[0;34m\u001b[0m\u001b[0;34m\u001b[0m\u001b[0m\n\u001b[1;32m      5\u001b[0m \u001b[0;32mwhile\u001b[0m \u001b[0;32mTrue\u001b[0m\u001b[0;34m:\u001b[0m\u001b[0;34m\u001b[0m\u001b[0;34m\u001b[0m\u001b[0m\n",
            "\u001b[0;32m/usr/lib/python3.7/turtle.py\u001b[0m in \u001b[0;36mcolor\u001b[0;34m(*args)\u001b[0m\n",
            "\u001b[0;32m/usr/lib/python3.7/turtle.py\u001b[0m in \u001b[0;36m__init__\u001b[0;34m(self, shape, undobuffersize, visible)\u001b[0m\n\u001b[1;32m   3810\u001b[0m                  visible=_CFG[\"visible\"]):\n\u001b[1;32m   3811\u001b[0m         \u001b[0;32mif\u001b[0m \u001b[0mTurtle\u001b[0m\u001b[0;34m.\u001b[0m\u001b[0m_screen\u001b[0m \u001b[0;32mis\u001b[0m \u001b[0;32mNone\u001b[0m\u001b[0;34m:\u001b[0m\u001b[0;34m\u001b[0m\u001b[0;34m\u001b[0m\u001b[0m\n\u001b[0;32m-> 3812\u001b[0;31m             \u001b[0mTurtle\u001b[0m\u001b[0;34m.\u001b[0m\u001b[0m_screen\u001b[0m \u001b[0;34m=\u001b[0m \u001b[0mScreen\u001b[0m\u001b[0;34m(\u001b[0m\u001b[0;34m)\u001b[0m\u001b[0;34m\u001b[0m\u001b[0;34m\u001b[0m\u001b[0m\n\u001b[0m\u001b[1;32m   3813\u001b[0m         RawTurtle.__init__(self, Turtle._screen,\n\u001b[1;32m   3814\u001b[0m                            \u001b[0mshape\u001b[0m\u001b[0;34m=\u001b[0m\u001b[0mshape\u001b[0m\u001b[0;34m,\u001b[0m\u001b[0;34m\u001b[0m\u001b[0;34m\u001b[0m\u001b[0m\n",
            "\u001b[0;32m/usr/lib/python3.7/turtle.py\u001b[0m in \u001b[0;36mScreen\u001b[0;34m()\u001b[0m\n\u001b[1;32m   3660\u001b[0m     else return the existing one.\"\"\"\n\u001b[1;32m   3661\u001b[0m     \u001b[0;32mif\u001b[0m \u001b[0mTurtle\u001b[0m\u001b[0;34m.\u001b[0m\u001b[0m_screen\u001b[0m \u001b[0;32mis\u001b[0m \u001b[0;32mNone\u001b[0m\u001b[0;34m:\u001b[0m\u001b[0;34m\u001b[0m\u001b[0;34m\u001b[0m\u001b[0m\n\u001b[0;32m-> 3662\u001b[0;31m         \u001b[0mTurtle\u001b[0m\u001b[0;34m.\u001b[0m\u001b[0m_screen\u001b[0m \u001b[0;34m=\u001b[0m \u001b[0m_Screen\u001b[0m\u001b[0;34m(\u001b[0m\u001b[0;34m)\u001b[0m\u001b[0;34m\u001b[0m\u001b[0;34m\u001b[0m\u001b[0m\n\u001b[0m\u001b[1;32m   3663\u001b[0m     \u001b[0;32mreturn\u001b[0m \u001b[0mTurtle\u001b[0m\u001b[0;34m.\u001b[0m\u001b[0m_screen\u001b[0m\u001b[0;34m\u001b[0m\u001b[0;34m\u001b[0m\u001b[0m\n\u001b[1;32m   3664\u001b[0m \u001b[0;34m\u001b[0m\u001b[0m\n",
            "\u001b[0;32m/usr/lib/python3.7/turtle.py\u001b[0m in \u001b[0;36m__init__\u001b[0;34m(self)\u001b[0m\n\u001b[1;32m   3676\u001b[0m         \u001b[0;31m# preserved (perhaps by passing it as an optional parameter)\u001b[0m\u001b[0;34m\u001b[0m\u001b[0;34m\u001b[0m\u001b[0;34m\u001b[0m\u001b[0m\n\u001b[1;32m   3677\u001b[0m         \u001b[0;32mif\u001b[0m \u001b[0m_Screen\u001b[0m\u001b[0;34m.\u001b[0m\u001b[0m_root\u001b[0m \u001b[0;32mis\u001b[0m \u001b[0;32mNone\u001b[0m\u001b[0;34m:\u001b[0m\u001b[0;34m\u001b[0m\u001b[0;34m\u001b[0m\u001b[0m\n\u001b[0;32m-> 3678\u001b[0;31m             \u001b[0m_Screen\u001b[0m\u001b[0;34m.\u001b[0m\u001b[0m_root\u001b[0m \u001b[0;34m=\u001b[0m \u001b[0mself\u001b[0m\u001b[0;34m.\u001b[0m\u001b[0m_root\u001b[0m \u001b[0;34m=\u001b[0m \u001b[0m_Root\u001b[0m\u001b[0;34m(\u001b[0m\u001b[0;34m)\u001b[0m\u001b[0;34m\u001b[0m\u001b[0;34m\u001b[0m\u001b[0m\n\u001b[0m\u001b[1;32m   3679\u001b[0m             \u001b[0mself\u001b[0m\u001b[0;34m.\u001b[0m\u001b[0m_root\u001b[0m\u001b[0;34m.\u001b[0m\u001b[0mtitle\u001b[0m\u001b[0;34m(\u001b[0m\u001b[0m_Screen\u001b[0m\u001b[0;34m.\u001b[0m\u001b[0m_title\u001b[0m\u001b[0;34m)\u001b[0m\u001b[0;34m\u001b[0m\u001b[0;34m\u001b[0m\u001b[0m\n\u001b[1;32m   3680\u001b[0m             \u001b[0mself\u001b[0m\u001b[0;34m.\u001b[0m\u001b[0m_root\u001b[0m\u001b[0;34m.\u001b[0m\u001b[0mondestroy\u001b[0m\u001b[0;34m(\u001b[0m\u001b[0mself\u001b[0m\u001b[0;34m.\u001b[0m\u001b[0m_destroy\u001b[0m\u001b[0;34m)\u001b[0m\u001b[0;34m\u001b[0m\u001b[0;34m\u001b[0m\u001b[0m\n",
            "\u001b[0;32m/usr/lib/python3.7/turtle.py\u001b[0m in \u001b[0;36m__init__\u001b[0;34m(self)\u001b[0m\n\u001b[1;32m    432\u001b[0m     \u001b[0;34m\"\"\"Root class for Screen based on Tkinter.\"\"\"\u001b[0m\u001b[0;34m\u001b[0m\u001b[0;34m\u001b[0m\u001b[0m\n\u001b[1;32m    433\u001b[0m     \u001b[0;32mdef\u001b[0m \u001b[0m__init__\u001b[0m\u001b[0;34m(\u001b[0m\u001b[0mself\u001b[0m\u001b[0;34m)\u001b[0m\u001b[0;34m:\u001b[0m\u001b[0;34m\u001b[0m\u001b[0;34m\u001b[0m\u001b[0m\n\u001b[0;32m--> 434\u001b[0;31m         \u001b[0mTK\u001b[0m\u001b[0;34m.\u001b[0m\u001b[0mTk\u001b[0m\u001b[0;34m.\u001b[0m\u001b[0m__init__\u001b[0m\u001b[0;34m(\u001b[0m\u001b[0mself\u001b[0m\u001b[0;34m)\u001b[0m\u001b[0;34m\u001b[0m\u001b[0;34m\u001b[0m\u001b[0m\n\u001b[0m\u001b[1;32m    435\u001b[0m \u001b[0;34m\u001b[0m\u001b[0m\n\u001b[1;32m    436\u001b[0m     \u001b[0;32mdef\u001b[0m \u001b[0msetupcanvas\u001b[0m\u001b[0;34m(\u001b[0m\u001b[0mself\u001b[0m\u001b[0;34m,\u001b[0m \u001b[0mwidth\u001b[0m\u001b[0;34m,\u001b[0m \u001b[0mheight\u001b[0m\u001b[0;34m,\u001b[0m \u001b[0mcwidth\u001b[0m\u001b[0;34m,\u001b[0m \u001b[0mcheight\u001b[0m\u001b[0;34m)\u001b[0m\u001b[0;34m:\u001b[0m\u001b[0;34m\u001b[0m\u001b[0;34m\u001b[0m\u001b[0m\n",
            "\u001b[0;32m/usr/lib/python3.7/tkinter/__init__.py\u001b[0m in \u001b[0;36m__init__\u001b[0;34m(self, screenName, baseName, className, useTk, sync, use)\u001b[0m\n\u001b[1;32m   2021\u001b[0m                 \u001b[0mbaseName\u001b[0m \u001b[0;34m=\u001b[0m \u001b[0mbaseName\u001b[0m \u001b[0;34m+\u001b[0m \u001b[0mext\u001b[0m\u001b[0;34m\u001b[0m\u001b[0;34m\u001b[0m\u001b[0m\n\u001b[1;32m   2022\u001b[0m         \u001b[0minteractive\u001b[0m \u001b[0;34m=\u001b[0m \u001b[0;36m0\u001b[0m\u001b[0;34m\u001b[0m\u001b[0;34m\u001b[0m\u001b[0m\n\u001b[0;32m-> 2023\u001b[0;31m         \u001b[0mself\u001b[0m\u001b[0;34m.\u001b[0m\u001b[0mtk\u001b[0m \u001b[0;34m=\u001b[0m \u001b[0m_tkinter\u001b[0m\u001b[0;34m.\u001b[0m\u001b[0mcreate\u001b[0m\u001b[0;34m(\u001b[0m\u001b[0mscreenName\u001b[0m\u001b[0;34m,\u001b[0m \u001b[0mbaseName\u001b[0m\u001b[0;34m,\u001b[0m \u001b[0mclassName\u001b[0m\u001b[0;34m,\u001b[0m \u001b[0minteractive\u001b[0m\u001b[0;34m,\u001b[0m \u001b[0mwantobjects\u001b[0m\u001b[0;34m,\u001b[0m \u001b[0museTk\u001b[0m\u001b[0;34m,\u001b[0m \u001b[0msync\u001b[0m\u001b[0;34m,\u001b[0m \u001b[0muse\u001b[0m\u001b[0;34m)\u001b[0m\u001b[0;34m\u001b[0m\u001b[0;34m\u001b[0m\u001b[0m\n\u001b[0m\u001b[1;32m   2024\u001b[0m         \u001b[0;32mif\u001b[0m \u001b[0museTk\u001b[0m\u001b[0;34m:\u001b[0m\u001b[0;34m\u001b[0m\u001b[0;34m\u001b[0m\u001b[0m\n\u001b[1;32m   2025\u001b[0m             \u001b[0mself\u001b[0m\u001b[0;34m.\u001b[0m\u001b[0m_loadtk\u001b[0m\u001b[0;34m(\u001b[0m\u001b[0;34m)\u001b[0m\u001b[0;34m\u001b[0m\u001b[0;34m\u001b[0m\u001b[0m\n",
            "\u001b[0;31mTclError\u001b[0m: no display name and no $DISPLAY environment variable"
          ]
        }
      ]
    },
    {
      "cell_type": "code",
      "source": [
        "# 直接上代码，详见注释。图像每50ms更新一次，随着变量cnt的改变而变化：\n",
        "# pip install numpy\n",
        "# python.exe -m pip install --upgrade pip\n",
        "# pip install --upgrade pip --user\n",
        "# pip install opencv-python\n",
        "\n",
        "import numpy as np\n",
        "import cv2 as cv\n",
        "cnt = 0\n",
        "while True:\n",
        "    center = (300, 300)\n",
        "    img = np.ones((600, 600, 3), np.uint8)  # 生成一个空RGB图像\n",
        "    # img = np.ones((600, 600), np.uint8)  # 生成一个空灰度图像\n",
        "\n",
        "    point_color = (255, cnt, cnt)  # BGR （blue, green, red)\n",
        "    # point_color = 180  # gray 单通道灰度图\n",
        "\n",
        "    # 线型，生成线条的算法不同，都是实线\n",
        "    lineType = cv.LINE_8\n",
        "    # lineType = cv2.LINE_4\n",
        "    # lineType = cv2.LINE_AA\n",
        "\n",
        "    thickness = 1\n",
        "    # 画圆    所在图像 位置    半径     颜色          宽度       线型\n",
        "    cv.circle(img, center, 10+cnt, point_color, thickness, lineType)\n",
        "\n",
        "    # 画点，即实心圆，通过控制size（半径）和thickness来控制是否是实心\n",
        "    point_size = 2\n",
        "    thickness = 2\n",
        "    # 要画的点列表\n",
        "    points_list = [(160+cnt, 160), (136, 160+cnt), (150, 200), (200, 180), (120, 150), (145, 180)]\n",
        "    for point in points_list:\n",
        "        cv.circle(img, point, point_size, point_color, thickness)\n",
        "\n",
        "    # 画矩形\n",
        "    ptLeftTop = (100, 100)\n",
        "    ptRightBottom = (500, 500)\n",
        "    #                 左上角点     右下角点\n",
        "    cv.rectangle(img, ptLeftTop, ptRightBottom, point_color, thickness, lineType)\n",
        "\n",
        "    # 画直线\n",
        "    ptStart = (400, 200)\n",
        "    ptEnd = (200, 400)\n",
        "    cv.line(img, ptStart, ptEnd, point_color, thickness, lineType)\n",
        "\n",
        "    # 画椭圆\n",
        "    axesSize = (90, 60)  # 长轴半径为 90，短轴半径为 60\n",
        "    rotateAngle = 30  # 旋转角度为 30\n",
        "    startAngle = 0\n",
        "    endAngle = 270\n",
        "    cv.ellipse(img, center, axesSize, rotateAngle, startAngle, endAngle, point_color, thickness, lineType)\n",
        "\n",
        "    text = 'testOpencv'\n",
        "    org = (50, 50)\n",
        "    fontFace = cv.FONT_HERSHEY_COMPLEX\n",
        "    fontScale = 1.5\n",
        "    thickness = 0\n",
        "    lineType = 8\n",
        "    bottomLeftOrigin = False\n",
        "    # bottomLeftOrigin = True\n",
        "    cv.putText(img, text, org, fontFace, fontScale, point_color, thickness, lineType, bottomLeftOrigin)\n",
        "    # cv.putText(img, text, org, fontFace, fontScale, fontcolor, thickness, lineType)\n",
        "\n",
        "    cv.namedWindow(\"image\")\n",
        "    cv.imshow('image', img)\n",
        "    cnt += 1\n",
        "    key = cv.waitKey(50)\n",
        "    if key == ord('1'): break  # 判断是哪一个键按下\n",
        "    \n",
        "cv.destroyAllWindows()"
      ],
      "metadata": {
        "id": "NPKEue5r8_ef"
      },
      "execution_count": null,
      "outputs": []
    },
    {
      "cell_type": "code",
      "source": [
        "import matplotlib.patches as mpatches\n",
        "import matplotlib.pyplot as plt\n",
        "\n",
        "fg, ax = plt.subplots(1, 1)\n",
        "\n",
        "pac = mpatches.Arc([0, -2.5], 5, 5, angle=0, theta1=45, theta2=135)\n",
        "ax.add_patch(pac)\n",
        "\n",
        "ax.axis([-2, 2, -2, 2])\n",
        "ax.set_aspect(\"equal\")\n",
        "fg.canvas.draw()"
      ],
      "metadata": {
        "colab": {
          "base_uri": "https://localhost:8080/",
          "height": 269
        },
        "id": "BKyNNqT88_lr",
        "outputId": "2135ff79-37e1-4393-9158-dc06f8c72e80"
      },
      "execution_count": 1,
      "outputs": [
        {
          "output_type": "display_data",
          "data": {
            "image/png": "[encoded data removed]",
            "text/plain": [
              "<Figure size 432x288 with 1 Axes>"
            ]
          },
          "metadata": {
            "needs_background": "light"
          }
        }
      ]
    },
    {
      "cell_type": "code",
      "source": [
        "import matplotlib.patches as mpatches\n",
        "import matplotlib.pyplot as plt\n",
        "import numpy as np\n",
        "\n",
        "def arc_patch(center, radius, theta1, theta2, ax=None, resolution=50, **kwargs):\n",
        "    # make sure ax is not empty\n",
        "    if ax is None:\n",
        "        ax = plt.gca()\n",
        "    # generate the points\n",
        "    theta = np.linspace(np.radians(theta1), np.radians(theta2), resolution)\n",
        "    points = np.vstack((radius*np.cos(theta) + center[0], \n",
        "                        radius*np.sin(theta) + center[1]))\n",
        "    # build the polygon and add it to the axes\n",
        "    poly = mpatches.Polygon(points.T, closed=True, **kwargs)\n",
        "    ax.add_patch(poly)\n",
        "    return poly\n",
        "\n",
        "# 然后我们将其应用:\n",
        "fig, ax = plt.subplots(1,2)\n",
        "\n",
        "# jeanrjc solution, which might hide other objects in your plot\n",
        "ax[0].plot([-1,1],[1,-1], 'r', zorder = -10)\n",
        "filled_arc((0.,0.3), 1, 90, 180, ax[0], 'blue')\n",
        "ax[0].set_title('version 1')\n",
        "\n",
        "# simpler approach, which really is just the arc\n",
        "ax[1].plot([-1,1],[1,-1], 'r', zorder = -10)\n",
        "arc_patch((0.,0.3), 1, 90, 180, ax=ax[1], fill=True, color='blue')\n",
        "ax[1].set_title('version 2')\n",
        "\n",
        "# axis settings\n",
        "for a in ax:\n",
        "    a.set_aspect('equal')\n",
        "    a.set_xlim(-1.5, 1.5)\n",
        "    a.set_ylim(-1.5, 1.5)\n",
        "\n",
        "plt.show()"
      ],
      "metadata": {
        "colab": {
          "base_uri": "https://localhost:8080/",
          "height": 489
        },
        "id": "E7bk56Da7ZIT",
        "outputId": "12d22073-6c24-418a-ba02-df94516e6cae"
      },
      "execution_count": 2,
      "outputs": [
        {
          "output_type": "error",
          "ename": "NameError",
          "evalue": "ignored",
          "traceback": [
            "\u001b[0;31m---------------------------------------------------------------------------\u001b[0m",
            "\u001b[0;31mNameError\u001b[0m                                 Traceback (most recent call last)",
            "\u001b[0;32m<ipython-input-2-1a74c4c8340f>\u001b[0m in \u001b[0;36m<module>\u001b[0;34m()\u001b[0m\n\u001b[1;32m     21\u001b[0m \u001b[0;31m# jeanrjc solution, which might hide other objects in your plot\u001b[0m\u001b[0;34m\u001b[0m\u001b[0;34m\u001b[0m\u001b[0;34m\u001b[0m\u001b[0m\n\u001b[1;32m     22\u001b[0m \u001b[0max\u001b[0m\u001b[0;34m[\u001b[0m\u001b[0;36m0\u001b[0m\u001b[0;34m]\u001b[0m\u001b[0;34m.\u001b[0m\u001b[0mplot\u001b[0m\u001b[0;34m(\u001b[0m\u001b[0;34m[\u001b[0m\u001b[0;34m-\u001b[0m\u001b[0;36m1\u001b[0m\u001b[0;34m,\u001b[0m\u001b[0;36m1\u001b[0m\u001b[0;34m]\u001b[0m\u001b[0;34m,\u001b[0m\u001b[0;34m[\u001b[0m\u001b[0;36m1\u001b[0m\u001b[0;34m,\u001b[0m\u001b[0;34m-\u001b[0m\u001b[0;36m1\u001b[0m\u001b[0;34m]\u001b[0m\u001b[0;34m,\u001b[0m \u001b[0;34m'r'\u001b[0m\u001b[0;34m,\u001b[0m \u001b[0mzorder\u001b[0m \u001b[0;34m=\u001b[0m \u001b[0;34m-\u001b[0m\u001b[0;36m10\u001b[0m\u001b[0;34m)\u001b[0m\u001b[0;34m\u001b[0m\u001b[0;34m\u001b[0m\u001b[0m\n\u001b[0;32m---> 23\u001b[0;31m \u001b[0mfilled_arc\u001b[0m\u001b[0;34m(\u001b[0m\u001b[0;34m(\u001b[0m\u001b[0;36m0.\u001b[0m\u001b[0;34m,\u001b[0m\u001b[0;36m0.3\u001b[0m\u001b[0;34m)\u001b[0m\u001b[0;34m,\u001b[0m \u001b[0;36m1\u001b[0m\u001b[0;34m,\u001b[0m \u001b[0;36m90\u001b[0m\u001b[0;34m,\u001b[0m \u001b[0;36m180\u001b[0m\u001b[0;34m,\u001b[0m \u001b[0max\u001b[0m\u001b[0;34m[\u001b[0m\u001b[0;36m0\u001b[0m\u001b[0;34m]\u001b[0m\u001b[0;34m,\u001b[0m \u001b[0;34m'blue'\u001b[0m\u001b[0;34m)\u001b[0m\u001b[0;34m\u001b[0m\u001b[0;34m\u001b[0m\u001b[0m\n\u001b[0m\u001b[1;32m     24\u001b[0m \u001b[0max\u001b[0m\u001b[0;34m[\u001b[0m\u001b[0;36m0\u001b[0m\u001b[0;34m]\u001b[0m\u001b[0;34m.\u001b[0m\u001b[0mset_title\u001b[0m\u001b[0;34m(\u001b[0m\u001b[0;34m'version 1'\u001b[0m\u001b[0;34m)\u001b[0m\u001b[0;34m\u001b[0m\u001b[0;34m\u001b[0m\u001b[0m\n\u001b[1;32m     25\u001b[0m \u001b[0;34m\u001b[0m\u001b[0m\n",
            "\u001b[0;31mNameError\u001b[0m: name 'filled_arc' is not defined"
          ]
        },
        {
          "output_type": "display_data",
          "data": {
            "image/png": "[encoded data removed]",
            "text/plain": [
              "<Figure size 432x288 with 2 Axes>"
            ]
          },
          "metadata": {
            "needs_background": "light"
          }
        }
      ]
    },
    {
      "cell_type": "code",
      "source": [
        "# 圆弧:\n",
        "\n",
        "import matplotlib.patches as mpatches\n",
        "import matplotlib.pyplot as plt\n",
        "\n",
        "fg, ax = plt.subplots(1, 1)\n",
        "\n",
        "pac = mpatches.Arc([0, -2.5], 5, 5, angle=0, theta1=45, theta2=135)\n",
        "ax.add_patch(pac)\n",
        "\n",
        "ax.axis([-2, 2, -2, 2])\n",
        "ax.set_aspect(\"equal\")\n",
        "fg.canvas.draw()"
      ],
      "metadata": {
        "colab": {
          "base_uri": "https://localhost:8080/",
          "height": 269
        },
        "id": "5Y5jAape7ZL1",
        "outputId": "18a786f0-1d7b-4d67-a907-cfb7059b2a91"
      },
      "execution_count": 4,
      "outputs": [
        {
          "output_type": "display_data",
          "data": {
            "image/png": "[encoded data removed]",
            "text/plain": [
              "<Figure size 432x288 with 1 Axes>"
            ]
          },
          "metadata": {
            "needs_background": "light"
          }
        }
      ]
    },
    {
      "cell_type": "code",
      "source": [
        "import cv2\n",
        "import numpy as np\n",
        "image = np.zeros((480, 640, 3), np.uint8)\n",
        "\n",
        "# 設定底色方法1\n",
        "image[:] = (128, 128, 128)\n",
        "# 設定底色方法2\n",
        "image.fill(128)\n",
        "color = (255, 255, 255)\n",
        "# cv2.circle(影像, 圓心座標, 半徑, 顏色, 線條寬度)\n",
        "cv2.circle(image, (150, 200), 50, color, 1)\n",
        "cv2.circle(image, (200, 200), 100, color, 1)\n",
        "cv2.circle(image, (250, 200), 150, color, 1)\n",
        "cv2.imshow('Result', image)\n",
        "cv2.waitKey(0)"
      ],
      "metadata": {
        "colab": {
          "base_uri": "https://localhost:8080/",
          "height": 393
        },
        "id": "DnJc8p1C7ZPX",
        "outputId": "8cfb2a89-3c37-4f88-f3d8-f964c48ac907"
      },
      "execution_count": 6,
      "outputs": [
        {
          "output_type": "error",
          "ename": "DisabledFunctionError",
          "evalue": "ignored",
          "traceback": [
            "\u001b[0;31m---------------------------------------------------------------------------\u001b[0m",
            "\u001b[0;31mDisabledFunctionError\u001b[0m                     Traceback (most recent call last)",
            "\u001b[0;32m<ipython-input-6-32dc7050b17d>\u001b[0m in \u001b[0;36m<module>\u001b[0;34m()\u001b[0m\n\u001b[1;32m     12\u001b[0m \u001b[0mcv2\u001b[0m\u001b[0;34m.\u001b[0m\u001b[0mcircle\u001b[0m\u001b[0;34m(\u001b[0m\u001b[0mimage\u001b[0m\u001b[0;34m,\u001b[0m \u001b[0;34m(\u001b[0m\u001b[0;36m200\u001b[0m\u001b[0;34m,\u001b[0m \u001b[0;36m200\u001b[0m\u001b[0;34m)\u001b[0m\u001b[0;34m,\u001b[0m \u001b[0;36m100\u001b[0m\u001b[0;34m,\u001b[0m \u001b[0mcolor\u001b[0m\u001b[0;34m,\u001b[0m \u001b[0;36m1\u001b[0m\u001b[0;34m)\u001b[0m\u001b[0;34m\u001b[0m\u001b[0;34m\u001b[0m\u001b[0m\n\u001b[1;32m     13\u001b[0m \u001b[0mcv2\u001b[0m\u001b[0;34m.\u001b[0m\u001b[0mcircle\u001b[0m\u001b[0;34m(\u001b[0m\u001b[0mimage\u001b[0m\u001b[0;34m,\u001b[0m \u001b[0;34m(\u001b[0m\u001b[0;36m250\u001b[0m\u001b[0;34m,\u001b[0m \u001b[0;36m200\u001b[0m\u001b[0;34m)\u001b[0m\u001b[0;34m,\u001b[0m \u001b[0;36m150\u001b[0m\u001b[0;34m,\u001b[0m \u001b[0mcolor\u001b[0m\u001b[0;34m,\u001b[0m \u001b[0;36m1\u001b[0m\u001b[0;34m)\u001b[0m\u001b[0;34m\u001b[0m\u001b[0;34m\u001b[0m\u001b[0m\n\u001b[0;32m---> 14\u001b[0;31m \u001b[0mcv2\u001b[0m\u001b[0;34m.\u001b[0m\u001b[0mimshow\u001b[0m\u001b[0;34m(\u001b[0m\u001b[0;34m'Result'\u001b[0m\u001b[0;34m,\u001b[0m \u001b[0mimage\u001b[0m\u001b[0;34m)\u001b[0m\u001b[0;34m\u001b[0m\u001b[0;34m\u001b[0m\u001b[0m\n\u001b[0m\u001b[1;32m     15\u001b[0m \u001b[0mcv2\u001b[0m\u001b[0;34m.\u001b[0m\u001b[0mwaitKey\u001b[0m\u001b[0;34m(\u001b[0m\u001b[0;36m0\u001b[0m\u001b[0;34m)\u001b[0m\u001b[0;34m\u001b[0m\u001b[0;34m\u001b[0m\u001b[0m\n",
            "\u001b[0;32m/usr/local/lib/python3.7/dist-packages/google/colab/_import_hooks/_cv2.py\u001b[0m in \u001b[0;36mwrapped\u001b[0;34m(*args, **kwargs)\u001b[0m\n\u001b[1;32m     50\u001b[0m   \u001b[0;32mdef\u001b[0m \u001b[0mwrapped\u001b[0m\u001b[0;34m(\u001b[0m\u001b[0;34m*\u001b[0m\u001b[0margs\u001b[0m\u001b[0;34m,\u001b[0m \u001b[0;34m**\u001b[0m\u001b[0mkwargs\u001b[0m\u001b[0;34m)\u001b[0m\u001b[0;34m:\u001b[0m\u001b[0;34m\u001b[0m\u001b[0;34m\u001b[0m\u001b[0m\n\u001b[1;32m     51\u001b[0m     \u001b[0;32mif\u001b[0m \u001b[0;32mnot\u001b[0m \u001b[0mos\u001b[0m\u001b[0;34m.\u001b[0m\u001b[0menviron\u001b[0m\u001b[0;34m.\u001b[0m\u001b[0mget\u001b[0m\u001b[0;34m(\u001b[0m\u001b[0menv_var\u001b[0m\u001b[0;34m,\u001b[0m \u001b[0;32mFalse\u001b[0m\u001b[0;34m)\u001b[0m\u001b[0;34m:\u001b[0m\u001b[0;34m\u001b[0m\u001b[0;34m\u001b[0m\u001b[0m\n\u001b[0;32m---> 52\u001b[0;31m       \u001b[0;32mraise\u001b[0m \u001b[0mDisabledFunctionError\u001b[0m\u001b[0;34m(\u001b[0m\u001b[0mmessage\u001b[0m\u001b[0;34m,\u001b[0m \u001b[0mname\u001b[0m \u001b[0;32mor\u001b[0m \u001b[0mfunc\u001b[0m\u001b[0;34m.\u001b[0m\u001b[0m__name__\u001b[0m\u001b[0;34m)\u001b[0m\u001b[0;34m\u001b[0m\u001b[0;34m\u001b[0m\u001b[0m\n\u001b[0m\u001b[1;32m     53\u001b[0m     \u001b[0;32mreturn\u001b[0m \u001b[0mfunc\u001b[0m\u001b[0;34m(\u001b[0m\u001b[0;34m*\u001b[0m\u001b[0margs\u001b[0m\u001b[0;34m,\u001b[0m \u001b[0;34m**\u001b[0m\u001b[0mkwargs\u001b[0m\u001b[0;34m)\u001b[0m\u001b[0;34m\u001b[0m\u001b[0;34m\u001b[0m\u001b[0m\n\u001b[1;32m     54\u001b[0m \u001b[0;34m\u001b[0m\u001b[0m\n",
            "\u001b[0;31mDisabledFunctionError\u001b[0m: cv2.imshow() is disabled in Colab, because it causes Jupyter sessions\nto crash; see https://github.com/jupyter/notebook/issues/3935.\nAs a substitution, consider using\n  from google.colab.patches import cv2_imshow\n"
          ],
          "errorDetails": {
            "actions": [
              {
                "action": "open_snippet",
                "actionText": "Search Snippets for cv2.imshow",
                "snippetFilter": "cv2.imshow"
              }
            ]
          }
        }
      ]
    },
    {
      "cell_type": "code",
      "source": [
        "# pip install Pillow\n",
        "import numpy as np\n",
        "import cv2\n",
        "from PIL import ImageFont, ImageDraw, Image\n",
        "\n",
        "img = np.zeros((450, 450, 3), np.uint8)\n",
        "\n",
        "# 將背景設定為大紅色\n",
        "img[:] = (0, 0, 255)\n",
        "\n",
        "# 文字\n",
        "text = '招財\\n進寶'\n",
        "\n",
        "# 指定 TTF 字體檔\n",
        "# fontPath = \"./康熙字典體.ttf\"\n",
        "fontPath = 'C:\\Windows\\Fonts\\msjh.ttc' # 微軟正黑體\n",
        "\n",
        "# 載入字體\n",
        "font = ImageFont.truetype(fontPath, 192)\n",
        "'''\n",
        "用法：  PIL.ImageFont.truetype(font=None, size=10, index=0, encoding=”)  \n",
        "參數：\n",
        "font-TrueType字體文件。在Windows下，如果在該文件名中找不到該文件，則加載程序還會在Windows fonts /目錄中查找。\n",
        "size-請求的大小(以磅為單位)。\n",
        "index-要加載的字體(默認為第一個可用的字體)。\n",
        "encoding-使用哪種字體編碼(默認為Unicode)。\n",
        "'''\n",
        "# 將 NumPy 陣列轉為 PIL 影像\n",
        "imgPil = Image.fromarray(img)\n",
        "\n",
        "# 在圖片上加入文字\n",
        "draw = ImageDraw.Draw(imgPil)\n",
        "draw.text((30, 30),  text, font = font, fill = (0, 0, 0))\n",
        "\n",
        "# 將 PIL 影像轉回 NumPy 陣列\n",
        "img = np.array(imgPil)\n",
        "\n",
        "cv2.imshow('My Image', img)\n",
        "cv2.waitKey(0)\n",
        "cv2.destroyAllWindows()"
      ],
      "metadata": {
        "colab": {
          "base_uri": "https://localhost:8080/",
          "height": 382
        },
        "id": "ijoIjj2lH_yF",
        "outputId": "80632f0e-2171-4d57-eced-a4988565b747"
      },
      "execution_count": 7,
      "outputs": [
        {
          "output_type": "error",
          "ename": "OSError",
          "evalue": "ignored",
          "traceback": [
            "\u001b[0;31m---------------------------------------------------------------------------\u001b[0m",
            "\u001b[0;31mOSError\u001b[0m                                   Traceback (most recent call last)",
            "\u001b[0;32m<ipython-input-7-1c2a895df96e>\u001b[0m in \u001b[0;36m<module>\u001b[0;34m()\u001b[0m\n\u001b[1;32m     17\u001b[0m \u001b[0;34m\u001b[0m\u001b[0m\n\u001b[1;32m     18\u001b[0m \u001b[0;31m# 載入字體\u001b[0m\u001b[0;34m\u001b[0m\u001b[0;34m\u001b[0m\u001b[0;34m\u001b[0m\u001b[0m\n\u001b[0;32m---> 19\u001b[0;31m \u001b[0mfont\u001b[0m \u001b[0;34m=\u001b[0m \u001b[0mImageFont\u001b[0m\u001b[0;34m.\u001b[0m\u001b[0mtruetype\u001b[0m\u001b[0;34m(\u001b[0m\u001b[0mfontPath\u001b[0m\u001b[0;34m,\u001b[0m \u001b[0;36m192\u001b[0m\u001b[0;34m)\u001b[0m\u001b[0;34m\u001b[0m\u001b[0;34m\u001b[0m\u001b[0m\n\u001b[0m\u001b[1;32m     20\u001b[0m '''\n\u001b[1;32m     21\u001b[0m \u001b[0m用法\u001b[0m\u001b[0;31m：\u001b[0m  \u001b[0mPIL\u001b[0m\u001b[0;34m.\u001b[0m\u001b[0mImageFont\u001b[0m\u001b[0;34m.\u001b[0m\u001b[0mtruetype\u001b[0m\u001b[0;34m(\u001b[0m\u001b[0mfont\u001b[0m\u001b[0;34m=\u001b[0m\u001b[0;32mNone\u001b[0m\u001b[0;34m,\u001b[0m \u001b[0msize\u001b[0m\u001b[0;34m=\u001b[0m\u001b[0;36m10\u001b[0m\u001b[0;34m,\u001b[0m \u001b[0mindex\u001b[0m\u001b[0;34m=\u001b[0m\u001b[0;36m0\u001b[0m\u001b[0;34m,\u001b[0m \u001b[0mencoding\u001b[0m\u001b[0;34m=\u001b[0m\u001b[0;31m”\u001b[0m\u001b[0;34m)\u001b[0m\u001b[0;34m\u001b[0m\u001b[0;34m\u001b[0m\u001b[0m\n",
            "\u001b[0;32m/usr/local/lib/python3.7/dist-packages/PIL/ImageFont.py\u001b[0m in \u001b[0;36mtruetype\u001b[0;34m(font, size, index, encoding, layout_engine)\u001b[0m\n\u001b[1;32m    646\u001b[0m \u001b[0;34m\u001b[0m\u001b[0m\n\u001b[1;32m    647\u001b[0m     \u001b[0;32mtry\u001b[0m\u001b[0;34m:\u001b[0m\u001b[0;34m\u001b[0m\u001b[0;34m\u001b[0m\u001b[0m\n\u001b[0;32m--> 648\u001b[0;31m         \u001b[0;32mreturn\u001b[0m \u001b[0mfreetype\u001b[0m\u001b[0;34m(\u001b[0m\u001b[0mfont\u001b[0m\u001b[0;34m)\u001b[0m\u001b[0;34m\u001b[0m\u001b[0;34m\u001b[0m\u001b[0m\n\u001b[0m\u001b[1;32m    649\u001b[0m     \u001b[0;32mexcept\u001b[0m \u001b[0mOSError\u001b[0m\u001b[0;34m:\u001b[0m\u001b[0;34m\u001b[0m\u001b[0;34m\u001b[0m\u001b[0m\n\u001b[1;32m    650\u001b[0m         \u001b[0;32mif\u001b[0m \u001b[0;32mnot\u001b[0m \u001b[0misPath\u001b[0m\u001b[0;34m(\u001b[0m\u001b[0mfont\u001b[0m\u001b[0;34m)\u001b[0m\u001b[0;34m:\u001b[0m\u001b[0;34m\u001b[0m\u001b[0;34m\u001b[0m\u001b[0m\n",
            "\u001b[0;32m/usr/local/lib/python3.7/dist-packages/PIL/ImageFont.py\u001b[0m in \u001b[0;36mfreetype\u001b[0;34m(font)\u001b[0m\n\u001b[1;32m    643\u001b[0m \u001b[0;34m\u001b[0m\u001b[0m\n\u001b[1;32m    644\u001b[0m     \u001b[0;32mdef\u001b[0m \u001b[0mfreetype\u001b[0m\u001b[0;34m(\u001b[0m\u001b[0mfont\u001b[0m\u001b[0;34m)\u001b[0m\u001b[0;34m:\u001b[0m\u001b[0;34m\u001b[0m\u001b[0;34m\u001b[0m\u001b[0m\n\u001b[0;32m--> 645\u001b[0;31m         \u001b[0;32mreturn\u001b[0m \u001b[0mFreeTypeFont\u001b[0m\u001b[0;34m(\u001b[0m\u001b[0mfont\u001b[0m\u001b[0;34m,\u001b[0m \u001b[0msize\u001b[0m\u001b[0;34m,\u001b[0m \u001b[0mindex\u001b[0m\u001b[0;34m,\u001b[0m \u001b[0mencoding\u001b[0m\u001b[0;34m,\u001b[0m \u001b[0mlayout_engine\u001b[0m\u001b[0;34m)\u001b[0m\u001b[0;34m\u001b[0m\u001b[0;34m\u001b[0m\u001b[0m\n\u001b[0m\u001b[1;32m    646\u001b[0m \u001b[0;34m\u001b[0m\u001b[0m\n\u001b[1;32m    647\u001b[0m     \u001b[0;32mtry\u001b[0m\u001b[0;34m:\u001b[0m\u001b[0;34m\u001b[0m\u001b[0;34m\u001b[0m\u001b[0m\n",
            "\u001b[0;32m/usr/local/lib/python3.7/dist-packages/PIL/ImageFont.py\u001b[0m in \u001b[0;36m__init__\u001b[0;34m(self, font, size, index, encoding, layout_engine)\u001b[0m\n\u001b[1;32m    192\u001b[0m                     \u001b[0;32mreturn\u001b[0m\u001b[0;34m\u001b[0m\u001b[0;34m\u001b[0m\u001b[0m\n\u001b[1;32m    193\u001b[0m             self.font = core.getfont(\n\u001b[0;32m--> 194\u001b[0;31m                 \u001b[0mfont\u001b[0m\u001b[0;34m,\u001b[0m \u001b[0msize\u001b[0m\u001b[0;34m,\u001b[0m \u001b[0mindex\u001b[0m\u001b[0;34m,\u001b[0m \u001b[0mencoding\u001b[0m\u001b[0;34m,\u001b[0m \u001b[0mlayout_engine\u001b[0m\u001b[0;34m=\u001b[0m\u001b[0mlayout_engine\u001b[0m\u001b[0;34m\u001b[0m\u001b[0;34m\u001b[0m\u001b[0m\n\u001b[0m\u001b[1;32m    195\u001b[0m             )\n\u001b[1;32m    196\u001b[0m         \u001b[0;32melse\u001b[0m\u001b[0;34m:\u001b[0m\u001b[0;34m\u001b[0m\u001b[0;34m\u001b[0m\u001b[0m\n",
            "\u001b[0;31mOSError\u001b[0m: cannot open resource"
          ]
        }
      ]
    },
    {
      "cell_type": "code",
      "source": [
        "'''\n",
        "函数参数含义如下：\n",
        "\n",
        "img：要画的圆所在的矩形或图像\n",
        "center：圆心坐标，如 (100, 100)\n",
        "radius：半径，如 10\n",
        "color：圆边框颜色，如 (0, 0, 255) 红色，BGR\n",
        "thickness：正值表示圆边框宽度. 负值表示画一个填充圆形\n",
        "lineType：圆边框线型，可为 0，4，8\n",
        "shift：圆心坐标和半径的小数点位数\n",
        "画点实际上就是画半径很小的实心圆，画点和画圆的完整代码如下：\n",
        "'''\n",
        "#!/usr/bin/python\n",
        "# -*- coding: UTF-8 -*-\n",
        "\"\"\"\n",
        "@Time    : 2018-11-09 21：39\n",
        "@Author  : jianjun.wang\n",
        "@Email   : alanwang6584@gmail.com\n",
        "\"\"\"\n",
        "\n",
        "import numpy as np\n",
        "import cv2 as cv\n",
        "\n",
        "img = np.zeros((320, 320, 3), np.uint8) #生成一个空灰度图像\n",
        "print(img.shape) # 输出：(480, 480, 3)\n",
        "\n",
        "point_size = 1\n",
        "point_color = (0, 0, 255) # BGR\n",
        "thickness = 4 # 可以为 0 、4、8\n",
        "\n",
        "# 要画的点的坐标\n",
        "points_list = [(160, 160), (136, 160), (150, 200), (200, 180), (120, 150), (145, 180)]\n",
        "\n",
        "for point in points_list:\n",
        "    cv.circle(img, point, point_size, point_color, thickness)\n",
        "\n",
        "# 画圆，圆心为：(160, 160)，半径为：60，颜色为：point_color，实心线\n",
        "cv.circle(img, (160, 160), 60, point_color, 0)\n",
        "\n",
        "cv.namedWindow(\"image\")\n",
        "cv.imshow('image', img)\n",
        "cv.waitKey (10000) # 显示 10000 ms 即 10s 后消失\n",
        "cv.destroyAllWindows()\n",
        "\n",
        "\n",
        "# 链接：https://www.jianshu.com/p/96888b4e2f99\n"
      ],
      "metadata": {
        "id": "KxKnlrFs7ZSl"
      },
      "execution_count": null,
      "outputs": []
    },
    {
      "cell_type": "code",
      "source": [
        "# 正方形\n",
        "import cv2\n",
        "import numpy as np\n",
        "print('VX公众号: 桔子code / juzicode.com')\n",
        "print('cv2.__version__:',cv2.__version__)\n",
        "img = np.ones((512,512,3)) #白色背景\n",
        "\n",
        "topleft=(10,100)\n",
        "downright=(111,333)\n",
        "color=(255,0,0)  #蓝色\n",
        "cv2.rectangle(img,topleft, downright, color, 2) #线条\n",
        "\n",
        "topleft=(300,100)\n",
        "downright=(500,300)\n",
        "color=(0,255,0)  #蓝色\n",
        "cv2.rectangle(img,topleft, downright, color, -1) #填充\n",
        "\n",
        "cv2.imshow('juzicode',img)\n",
        " \n",
        "cv2.waitKey()"
      ],
      "metadata": {
        "colab": {
          "base_uri": "https://localhost:8080/",
          "height": 445
        },
        "id": "YoWixJey7ZVl",
        "outputId": "28832aee-eb79-47ec-91af-add823d1d671"
      },
      "execution_count": 1,
      "outputs": [
        {
          "output_type": "stream",
          "name": "stdout",
          "text": [
            "VX公众号: 桔子code / juzicode.com\n",
            "cv2.__version__: 4.1.2\n"
          ]
        },
        {
          "output_type": "error",
          "ename": "DisabledFunctionError",
          "evalue": "ignored",
          "traceback": [
            "\u001b[0;31m---------------------------------------------------------------------------\u001b[0m",
            "\u001b[0;31mDisabledFunctionError\u001b[0m                     Traceback (most recent call last)",
            "\u001b[0;32m<ipython-input-1-2f00a601f963>\u001b[0m in \u001b[0;36m<module>\u001b[0;34m()\u001b[0m\n\u001b[1;32m     16\u001b[0m \u001b[0mcv2\u001b[0m\u001b[0;34m.\u001b[0m\u001b[0mrectangle\u001b[0m\u001b[0;34m(\u001b[0m\u001b[0mimg\u001b[0m\u001b[0;34m,\u001b[0m\u001b[0mtopleft\u001b[0m\u001b[0;34m,\u001b[0m \u001b[0mdownright\u001b[0m\u001b[0;34m,\u001b[0m \u001b[0mcolor\u001b[0m\u001b[0;34m,\u001b[0m \u001b[0;34m-\u001b[0m\u001b[0;36m1\u001b[0m\u001b[0;34m)\u001b[0m \u001b[0;31m#填充\u001b[0m\u001b[0;34m\u001b[0m\u001b[0;34m\u001b[0m\u001b[0m\n\u001b[1;32m     17\u001b[0m \u001b[0;34m\u001b[0m\u001b[0m\n\u001b[0;32m---> 18\u001b[0;31m \u001b[0mcv2\u001b[0m\u001b[0;34m.\u001b[0m\u001b[0mimshow\u001b[0m\u001b[0;34m(\u001b[0m\u001b[0;34m'juzicode'\u001b[0m\u001b[0;34m,\u001b[0m\u001b[0mimg\u001b[0m\u001b[0;34m)\u001b[0m\u001b[0;34m\u001b[0m\u001b[0;34m\u001b[0m\u001b[0m\n\u001b[0m\u001b[1;32m     19\u001b[0m \u001b[0;34m\u001b[0m\u001b[0m\n\u001b[1;32m     20\u001b[0m \u001b[0mcv2\u001b[0m\u001b[0;34m.\u001b[0m\u001b[0mwaitKey\u001b[0m\u001b[0;34m(\u001b[0m\u001b[0;34m)\u001b[0m\u001b[0;34m\u001b[0m\u001b[0;34m\u001b[0m\u001b[0m\n",
            "\u001b[0;32m/usr/local/lib/python3.7/dist-packages/google/colab/_import_hooks/_cv2.py\u001b[0m in \u001b[0;36mwrapped\u001b[0;34m(*args, **kwargs)\u001b[0m\n\u001b[1;32m     50\u001b[0m   \u001b[0;32mdef\u001b[0m \u001b[0mwrapped\u001b[0m\u001b[0;34m(\u001b[0m\u001b[0;34m*\u001b[0m\u001b[0margs\u001b[0m\u001b[0;34m,\u001b[0m \u001b[0;34m**\u001b[0m\u001b[0mkwargs\u001b[0m\u001b[0;34m)\u001b[0m\u001b[0;34m:\u001b[0m\u001b[0;34m\u001b[0m\u001b[0;34m\u001b[0m\u001b[0m\n\u001b[1;32m     51\u001b[0m     \u001b[0;32mif\u001b[0m \u001b[0;32mnot\u001b[0m \u001b[0mos\u001b[0m\u001b[0;34m.\u001b[0m\u001b[0menviron\u001b[0m\u001b[0;34m.\u001b[0m\u001b[0mget\u001b[0m\u001b[0;34m(\u001b[0m\u001b[0menv_var\u001b[0m\u001b[0;34m,\u001b[0m \u001b[0;32mFalse\u001b[0m\u001b[0;34m)\u001b[0m\u001b[0;34m:\u001b[0m\u001b[0;34m\u001b[0m\u001b[0;34m\u001b[0m\u001b[0m\n\u001b[0;32m---> 52\u001b[0;31m       \u001b[0;32mraise\u001b[0m \u001b[0mDisabledFunctionError\u001b[0m\u001b[0;34m(\u001b[0m\u001b[0mmessage\u001b[0m\u001b[0;34m,\u001b[0m \u001b[0mname\u001b[0m \u001b[0;32mor\u001b[0m \u001b[0mfunc\u001b[0m\u001b[0;34m.\u001b[0m\u001b[0m__name__\u001b[0m\u001b[0;34m)\u001b[0m\u001b[0;34m\u001b[0m\u001b[0;34m\u001b[0m\u001b[0m\n\u001b[0m\u001b[1;32m     53\u001b[0m     \u001b[0;32mreturn\u001b[0m \u001b[0mfunc\u001b[0m\u001b[0;34m(\u001b[0m\u001b[0;34m*\u001b[0m\u001b[0margs\u001b[0m\u001b[0;34m,\u001b[0m \u001b[0;34m**\u001b[0m\u001b[0mkwargs\u001b[0m\u001b[0;34m)\u001b[0m\u001b[0;34m\u001b[0m\u001b[0;34m\u001b[0m\u001b[0m\n\u001b[1;32m     54\u001b[0m \u001b[0;34m\u001b[0m\u001b[0m\n",
            "\u001b[0;31mDisabledFunctionError\u001b[0m: cv2.imshow() is disabled in Colab, because it causes Jupyter sessions\nto crash; see https://github.com/jupyter/notebook/issues/3935.\nAs a substitution, consider using\n  from google.colab.patches import cv2_imshow\n"
          ],
          "errorDetails": {
            "actions": [
              {
                "action": "open_snippet",
                "actionText": "Search Snippets for cv2.imshow",
                "snippetFilter": "cv2.imshow"
              }
            ]
          }
        }
      ]
    },
    {
      "cell_type": "code",
      "source": [
        "'''使用cv2.circle()画圆\n",
        "\n",
        "第1参数是图像对象；\n",
        "第2个参数为圆心；\n",
        "第3个参数为半径；\n",
        "第4个参数为颜色；\n",
        "第5个参数为线条宽度，如果使用-1会自动填充圆形的内部；\n",
        "下面这个例子中在圆心(100,100)处画一个黄色外框半径为50的空心圆，在圆心(200,200)处画一个半径为50的实心圆。'''\n",
        "\n",
        "import cv2\n",
        "import numpy as np\n",
        "print('VX公众号: 桔子code / juzicode.com')\n",
        "print('cv2.__version__:',cv2.__version__)\n",
        "img = np.ones((512,512,3)) #白色背景\n",
        "center=(100,100)\n",
        "radius=50\n",
        "color=(0,255,255)  #黄色\n",
        "cv2.circle(img,center, radius, color, 5) #线条\n",
        "\n",
        "center=(200,200)\n",
        "cv2.circle(img,center, radius, color, -1) #填充\n",
        "cv2.imshow('img',img)\n",
        " \n",
        "cv2.waitKey()"
      ],
      "metadata": {
        "id": "EXOpfTco7ZYW"
      },
      "execution_count": null,
      "outputs": []
    },
    {
      "cell_type": "code",
      "source": [
        "'''\n",
        "在一个坐标系中知道两个点，两点之间的连线就构成了一条直线，所以画直线需要起点和终点的x-y坐标。\n",
        "\n",
        "绘图方法用cv2.line()，\n",
        "\n",
        "第1个位置参数为要绘图的图像实例。\n",
        "第2个参数为起点，二元组。\n",
        "第3个参数为终点，二元组。\n",
        "第4个参数为颜色。\n",
        "第5个参数为线宽。\n",
        "先用numpy构建一个512×512大小的纯白色图片对象：img = np.ones((512,512,3))，起点选在start=(50,50)，终点选择stop=(300,300)，颜色设置为红色color=(0,0,255)，线宽thick=5：\n",
        "'''\n",
        "import cv2\n",
        "import numpy as np\n",
        "print('VX公众号: 桔子code / juzicode.com')\n",
        "print('cv2.__version__:',cv2.__version__)\n",
        "img = np.ones((512,512)) #白色背景\n",
        "start=(50,50)\n",
        "stop=(300,300)\n",
        "color=(0,255,255) #白色背景下显示黑色线条，虽然可以用三元组表示颜色，实际只取第0个元素\n",
        "thick=5\n",
        "cv2.line(img,start,stop,color,thick)\n",
        "cv2.imshow('img-white',img)\n",
        "\n",
        "img = np.zeros((512,512)) #黑色背景\n",
        "start=(50,50)\n",
        "stop=(300,300)\n",
        "color=1 #黑色背景下显示白色线条，大于0即可\n",
        "thick=5\n",
        "cv2.line(img,start,stop,color,thick)\n",
        "cv2.imshow('img-black',img)\n",
        "cv2.waitKey()"
      ],
      "metadata": {
        "colab": {
          "base_uri": "https://localhost:8080/",
          "height": 445
        },
        "id": "hmQR-9Yn7ZbS",
        "outputId": "1e2e7396-939b-4abb-d6d6-4609ceea3a32"
      },
      "execution_count": 2,
      "outputs": [
        {
          "output_type": "stream",
          "name": "stdout",
          "text": [
            "VX公众号: 桔子code / juzicode.com\n",
            "cv2.__version__: 4.1.2\n"
          ]
        },
        {
          "output_type": "error",
          "ename": "DisabledFunctionError",
          "evalue": "ignored",
          "traceback": [
            "\u001b[0;31m---------------------------------------------------------------------------\u001b[0m",
            "\u001b[0;31mDisabledFunctionError\u001b[0m                     Traceback (most recent call last)",
            "\u001b[0;32m<ipython-input-2-4a098808c2e3>\u001b[0m in \u001b[0;36m<module>\u001b[0;34m()\u001b[0m\n\u001b[1;32m     21\u001b[0m \u001b[0mthick\u001b[0m\u001b[0;34m=\u001b[0m\u001b[0;36m5\u001b[0m\u001b[0;34m\u001b[0m\u001b[0;34m\u001b[0m\u001b[0m\n\u001b[1;32m     22\u001b[0m \u001b[0mcv2\u001b[0m\u001b[0;34m.\u001b[0m\u001b[0mline\u001b[0m\u001b[0;34m(\u001b[0m\u001b[0mimg\u001b[0m\u001b[0;34m,\u001b[0m\u001b[0mstart\u001b[0m\u001b[0;34m,\u001b[0m\u001b[0mstop\u001b[0m\u001b[0;34m,\u001b[0m\u001b[0mcolor\u001b[0m\u001b[0;34m,\u001b[0m\u001b[0mthick\u001b[0m\u001b[0;34m)\u001b[0m\u001b[0;34m\u001b[0m\u001b[0;34m\u001b[0m\u001b[0m\n\u001b[0;32m---> 23\u001b[0;31m \u001b[0mcv2\u001b[0m\u001b[0;34m.\u001b[0m\u001b[0mimshow\u001b[0m\u001b[0;34m(\u001b[0m\u001b[0;34m'img-white'\u001b[0m\u001b[0;34m,\u001b[0m\u001b[0mimg\u001b[0m\u001b[0;34m)\u001b[0m\u001b[0;34m\u001b[0m\u001b[0;34m\u001b[0m\u001b[0m\n\u001b[0m\u001b[1;32m     24\u001b[0m \u001b[0;34m\u001b[0m\u001b[0m\n\u001b[1;32m     25\u001b[0m \u001b[0mimg\u001b[0m \u001b[0;34m=\u001b[0m \u001b[0mnp\u001b[0m\u001b[0;34m.\u001b[0m\u001b[0mzeros\u001b[0m\u001b[0;34m(\u001b[0m\u001b[0;34m(\u001b[0m\u001b[0;36m512\u001b[0m\u001b[0;34m,\u001b[0m\u001b[0;36m512\u001b[0m\u001b[0;34m)\u001b[0m\u001b[0;34m)\u001b[0m \u001b[0;31m#黑色背景\u001b[0m\u001b[0;34m\u001b[0m\u001b[0;34m\u001b[0m\u001b[0m\n",
            "\u001b[0;32m/usr/local/lib/python3.7/dist-packages/google/colab/_import_hooks/_cv2.py\u001b[0m in \u001b[0;36mwrapped\u001b[0;34m(*args, **kwargs)\u001b[0m\n\u001b[1;32m     50\u001b[0m   \u001b[0;32mdef\u001b[0m \u001b[0mwrapped\u001b[0m\u001b[0;34m(\u001b[0m\u001b[0;34m*\u001b[0m\u001b[0margs\u001b[0m\u001b[0;34m,\u001b[0m \u001b[0;34m**\u001b[0m\u001b[0mkwargs\u001b[0m\u001b[0;34m)\u001b[0m\u001b[0;34m:\u001b[0m\u001b[0;34m\u001b[0m\u001b[0;34m\u001b[0m\u001b[0m\n\u001b[1;32m     51\u001b[0m     \u001b[0;32mif\u001b[0m \u001b[0;32mnot\u001b[0m \u001b[0mos\u001b[0m\u001b[0;34m.\u001b[0m\u001b[0menviron\u001b[0m\u001b[0;34m.\u001b[0m\u001b[0mget\u001b[0m\u001b[0;34m(\u001b[0m\u001b[0menv_var\u001b[0m\u001b[0;34m,\u001b[0m \u001b[0;32mFalse\u001b[0m\u001b[0;34m)\u001b[0m\u001b[0;34m:\u001b[0m\u001b[0;34m\u001b[0m\u001b[0;34m\u001b[0m\u001b[0m\n\u001b[0;32m---> 52\u001b[0;31m       \u001b[0;32mraise\u001b[0m \u001b[0mDisabledFunctionError\u001b[0m\u001b[0;34m(\u001b[0m\u001b[0mmessage\u001b[0m\u001b[0;34m,\u001b[0m \u001b[0mname\u001b[0m \u001b[0;32mor\u001b[0m \u001b[0mfunc\u001b[0m\u001b[0;34m.\u001b[0m\u001b[0m__name__\u001b[0m\u001b[0;34m)\u001b[0m\u001b[0;34m\u001b[0m\u001b[0;34m\u001b[0m\u001b[0m\n\u001b[0m\u001b[1;32m     53\u001b[0m     \u001b[0;32mreturn\u001b[0m \u001b[0mfunc\u001b[0m\u001b[0;34m(\u001b[0m\u001b[0;34m*\u001b[0m\u001b[0margs\u001b[0m\u001b[0;34m,\u001b[0m \u001b[0;34m**\u001b[0m\u001b[0mkwargs\u001b[0m\u001b[0;34m)\u001b[0m\u001b[0;34m\u001b[0m\u001b[0;34m\u001b[0m\u001b[0m\n\u001b[1;32m     54\u001b[0m \u001b[0;34m\u001b[0m\u001b[0m\n",
            "\u001b[0;31mDisabledFunctionError\u001b[0m: cv2.imshow() is disabled in Colab, because it causes Jupyter sessions\nto crash; see https://github.com/jupyter/notebook/issues/3935.\nAs a substitution, consider using\n  from google.colab.patches import cv2_imshow\n"
          ],
          "errorDetails": {
            "actions": [
              {
                "action": "open_snippet",
                "actionText": "Search Snippets for cv2.imshow",
                "snippetFilter": "cv2.imshow"
              }
            ]
          }
        }
      ]
    },
    {
      "cell_type": "code",
      "source": [
        "import cv2\n",
        "import numpy as np\n",
        "print('VX公众号: 桔子code / juzicode.com')\n",
        "print('cv2.__version__:',cv2.__version__)\n",
        "img = np.ones((512,512,3))\n",
        "start=(50,50)\n",
        "stop=(300,300)\n",
        "color=(0,0,255)\n",
        "thick=5\n",
        "cv2.line(img,start,stop,color,thick)\n",
        "cv2.imshow('img',img)\n",
        "cv2.waitKey()"
      ],
      "metadata": {
        "id": "s2rHEYZY7ZeP"
      },
      "execution_count": null,
      "outputs": []
    },
    {
      "cell_type": "code",
      "source": [
        "python画实心圆_OpenCV python 绘制随机实心圆 - Cache One\n",
        "OpenCV python 绘制随机实心圆\n",
        "\n",
        "import numpy as np\n",
        "\n",
        "import cv2\n",
        "\n",
        "def main():\n",
        "\n",
        "# 1.创建白色背景图片\n",
        "\n",
        "d = 400\n",
        "\n",
        "img = np.ones((d, d, 3), np.uint8) * 255\n",
        "\n",
        "# 2.循环随机绘制实心圆\n",
        "\n",
        "for i in range(0, 100):\n",
        "\n",
        "# 随机中心点\n",
        "\n",
        "center_x = np.random.randint(0, high=d)\n",
        "\n",
        "center_y = np.random.randint(0, high=d)\n",
        "\n",
        "# 随机半径与颜色\n",
        "\n",
        "radius = np.random.randint(5, high=d/5)\n",
        "\n",
        "color = np.random.randint(0, high=256, size=(3, )).tolist()\n",
        "\n",
        "cv2.circle(img, (center_x, center_y), radius, color, -1)\n",
        "\n",
        "# 3.显示结果\n",
        "\n",
        "cv2.imshow(\"img\", img)\n",
        "\n",
        "cv2.waitKey()\n",
        "\n",
        "cv2.destroyAllWindows()\n",
        "\n",
        "if __name__ == '__main__':\n",
        "\n",
        "main()"
      ],
      "metadata": {
        "id": "_bkHPZci7Ziw"
      },
      "execution_count": null,
      "outputs": []
    },
    {
      "cell_type": "code",
      "source": [
        "import cv2\n",
        "import numpy as np\n",
        "\n",
        "# 初始化一个空画布 300×300 三通道 背景色为白色 \n",
        "canvas = np.ones((300, 300, 3), dtype=\"uint8\")\n",
        "canvas *= 255\n",
        "\n",
        "# 绘制一个绿色的圆\n",
        "cv2.circle(canvas, center=(150, 150), radius=50, color=(0, 255, 0))\n",
        "# 绘制一个红色圆 边缘宽度(thickness = 5)\n",
        "cv2.circle(img=canvas, center=(150, 150), radius=60, color=(0, 0, 255), thickness=5)\n",
        "# 绘制一个蓝色的实心圆 (thickness = -1)\n",
        "cv2.circle(canvas, (150, 150), 30, color=(255, 0, 0), thickness=-1)\n",
        "\n",
        "cv2.imshow(\"circle\", canvas)\n",
        "\n",
        "cv2.imwrite(\"draw_circle.png\", canvas)\n",
        "\n",
        "cv2.waitKey(0)\n",
        "cv2.destroyAllWindows()"
      ],
      "metadata": {
        "id": "aYqxkj935wg9"
      },
      "execution_count": null,
      "outputs": []
    },
    {
      "cell_type": "code",
      "source": [
        "# 绘制一个红色圆 边缘宽度(thickness = 5)\n",
        "cv2.circle(img=canvas, center=(150, 150), radius=60, color=(0, 0, 255), thickness=5)\n",
        "参数说明\n",
        "\n",
        "img 画布\n",
        "\n",
        "center 圆形中心坐标\n",
        "\n",
        "radius 圆形半径\n",
        "\n",
        "thickness 线宽， 如果是-1,代表填充"
      ],
      "metadata": {
        "id": "iQpi7gf75wkm"
      },
      "execution_count": null,
      "outputs": []
    },
    {
      "cell_type": "code",
      "source": [
        "首先一樣import matplotlib這個套件\n",
        "\n",
        "import matplotlib\n",
        "\n",
        "import matplotlib.pyplot as plt\n",
        "\n",
        "# import字型管理套件\n",
        "\n",
        "from matplotlib.font_manager import FontProperties\n",
        "\n",
        "# 指定使用字型和大小\n",
        "\n",
        "myFont = FontProperties(fname='D:/Programs/Lib/site-packages/matplotlib/mpl-data/fonts/ttf/msjh.ttc', size=14)\n",
        "\n",
        " \n",
        "\n",
        "# 分類類型\n",
        "\n",
        "category = ['便利商店', '百貨公司', '政府規費', '小吃美食', '餐廳', '大賣場']\n",
        "\n",
        "# 每月總花費\n",
        "\n",
        "expend = [1320, 3200, 500, 6000, 5800, 3900]\n",
        "\n",
        "# 設定顏色\n",
        "\n",
        "color = ['#ff0000', '#d200d2', '#66b3ff', '#28ff28', '#ffff37', '#5b00ae']\n",
        "\n",
        " \n",
        "\n",
        "# 設定圓餅圖大小\n",
        "\n",
        "plt.figure(figsize=(12,8))\n",
        "\n",
        "# 依據類別數量，分別設定要突出的距離\n",
        "\n",
        "separeted = (0, 0, 0.3, 0, 0, 0)      \n",
        "\n",
        " \n",
        "\n",
        "# 設定圓餅圖屬性\n",
        "\n",
        "pictures,category_text,percent_text = plt.pie(\n",
        "\n",
        "        expend,                           # 數值\n",
        "\n",
        "        colors = color,                   # 指定圓餅圖的顏色\n",
        "\n",
        "        labels = category,                # 分類的標記\n",
        "\n",
        "        autopct = \"%0.2f%%\",              # 四捨五入至小數點後面位數\n",
        "\n",
        "        explode = separeted,              # 設定分隔的區塊位置\n",
        "\n",
        "        pctdistance = 0.65,               # 數值與圓餅圖的圓心距離\n",
        "\n",
        "        radius = 0.7,                     # 圓餅圖的半徑，預設是1\n",
        "\n",
        "        center = (-10,0),                 # 圓餅圖的圓心座標\n",
        "\n",
        "        shadow=False)                     # 是否使用陰影\n",
        "\n",
        " \n",
        "\n",
        "# 把每個分類設成中文字型\n",
        "\n",
        "for t in category_text:\n",
        "\n",
        "    t.set_fontproperties(myFont)\n",
        "\n",
        "# 把每個數值設成中文字型\n",
        "\n",
        "for t in percent_text:\n",
        "\n",
        "    t.set_fontproperties(myFont)\n",
        "\n",
        "   \n",
        "\n",
        "# 設定legnd的位置\n",
        "\n",
        "plt.legend(loc = \"center right\", prop=myFont)\n",
        "\n",
        "# 設定圖片標題，以及指定字型設定，x代表與圖案最左側的距離，y代表與圖片的距離\n",
        "\n",
        "plt.title(\"Python 畫圓餅圖(Pie chart)範例\", fontproperties=myFont, x=0.5, y=1.03)\n",
        "\n",
        "# 畫出圓餅圖\n",
        "\n",
        "plt.show()"
      ],
      "metadata": {
        "id": "2jtGk9eN5woM"
      },
      "execution_count": null,
      "outputs": []
    },
    {
      "cell_type": "code",
      "source": [
        "# -*- coding: utf-8 -*- \n",
        "\"\"\" \n",
        "__author__= 'Du' \n",
        "__creation_time__= '2018/1/4 17:30' \n",
        "\"\"\" \n",
        " \n",
        " \n",
        "import numpy as np \n",
        "import matplotlib.pyplot as plt \n",
        " \n",
        " \n",
        "# 該行用於設置chart 的樣式，可以注掉 \n",
        "# plt.style.use(\"mystyle\") \n",
        " \n",
        "fig = plt.figure(figsize=(8,8)) \n",
        "ax = fig.add_subplot(111) \n",
        "ax.spines['left'].set_color('none') \n",
        "ax.spines['bottom'].set_color('none') \n",
        "ax.spines['right'].set_color('none') \n",
        "ax.spines['top'].set_color('none') \n",
        "ax.set_xticks([]) \n",
        "ax.set_yticks([]) \n",
        " \n",
        "# 實現功能 \n",
        "theta = np.arange(0, 2 * np.pi + 0.1,2 * np.pi / 1000) \n",
        "x = np.cos(theta) \n",
        "y = np.sin(theta) \n",
        " \n",
        "v = np.linspace(0, 10, 100) \n",
        "v.shape = (100, 1) \n",
        " \n",
        "x = v * x \n",
        "y = v * y \n",
        " \n",
        "plt.plot(x, y, color='pink') \n",
        "# plt.savefig('ball1.jpg') \n",
        "plt.show() "
      ],
      "metadata": {
        "id": "r7kZahSB5wrY"
      },
      "execution_count": null,
      "outputs": []
    },
    {
      "cell_type": "code",
      "source": [
        "plt.figure(figsize=(6,9))    # 顯示圖框架大小\n",
        "\n",
        "labels = accident[\"reason of car accident\"]      # 製作圓餅圖的類別標籤\n",
        "separeted = (0, 0, 0.3, 0, 0.3)                  # 依據類別數量，分別設定要突出的區塊\n",
        "size = accident[\"count\"]                         # 製作圓餅圖的數值來源\n",
        "\n",
        "plt.pie(size,                           # 數值\n",
        "        labels = labels,                # 標籤\n",
        "        autopct = \"%1.1f%%\",            # 將數值百分比並留到小數點一位\n",
        "        explode = separeted,            # 設定分隔的區塊位置\n",
        "        pctdistance = 0.6,              # 數字距圓心的距離\n",
        "        textprops = {\"fontsize\" : 12},  # 文字大小\n",
        "        shadow=True)                    # 設定陰影\n",
        "\n",
        " \n",
        "plt.axis('equal')                                          # 使圓餅圖比例相等\n",
        "plt.title(\"Pie chart of car accident\", {\"fontsize\" : 18})  # 設定標題及其文字大小\n",
        "plt.legend(loc = \"best\")                                   # 設定圖例及其位置為最佳\n",
        "\n",
        "plt.savefig(\"Pie chart of car accident.jpg\",   # 儲存圖檔\n",
        "            bbox_inches='tight',               # 去除座標軸占用的空間\n",
        "            pad_inches=0.0)                    # 去除所有白邊\n",
        "plt.close()      # 關閉圖表"
      ],
      "metadata": {
        "id": "sF6LpXrC5wun"
      },
      "execution_count": null,
      "outputs": []
    },
    {
      "cell_type": "code",
      "source": [
        "plt.plot(x,y,fmt,...)\n",
        "坐標圖\n",
        "plt.boxplot(data,notch,position)\n",
        "箱型圖\n",
        "plt.bar()\n",
        "條形圖\n",
        "plt.barh()\n",
        "橫向條形圖plt.polar()\n",
        "極坐標圖\n",
        "plt.pie()\n",
        "餅狀圖"
      ],
      "metadata": {
        "id": "Q9fWtarj5wxH"
      },
      "execution_count": null,
      "outputs": []
    },
    {
      "cell_type": "code",
      "source": [
        "import matplotlib.pyplot as pltimport numpy as np\n",
        "barSlices = 12\n",
        "theta = np.linspace(0.0, 2*np.pi, barSlices, endpoint=False)r = 30*np.random.rand(barSlices)\n",
        "plt.polar(theta, r, color=\"chartreuse\", linewidth=2,          marker=\"*\", mfc=\"b\", ms=10)plt.show()\n"
      ],
      "metadata": {
        "id": "T9fK_2pw5w0K"
      },
      "execution_count": null,
      "outputs": []
    },
    {
      "cell_type": "code",
      "source": [
        "功能\n",
        "plt.psd()\n",
        "功率譜密度圖\n",
        "plt.specgram()\n",
        "譜圖\n",
        "plt.cohere()\n",
        "繪製X與Y的相關性\n",
        "plt.scatter()\n",
        "散點圖\n",
        "plt.step()\n",
        "步階圖\n",
        "plt.hist()\n",
        "直方圖"
      ],
      "metadata": {
        "id": "RzO3-x3F5w3b"
      },
      "execution_count": null,
      "outputs": []
    },
    {
      "cell_type": "code",
      "source": [
        "畫葉子案例\n",
        "import turtle\n",
        "\n",
        "turtle.speed(1)\n",
        "#turtle.speed\n",
        "# 0——10 範圍內的整型數或速度字符串\n",
        "# \"fastest\": 0 最快\n",
        "# \"fast\": 10 快\n",
        "# \"normal\": 6 正常\n",
        "# \"slow\": 3 慢\n",
        "# \"slowest\": 1 最慢\n",
        "#拿起筆\n",
        "turtle.penup()\n",
        "#turtle默認的初始方向是向正東\n",
        "#向左邊旋轉90°\n",
        "turtle.left(90)\n",
        "#向前移動200像素\n",
        "turtle.fd(200)\n",
        "#放下筆\n",
        "turtle.pendown()\n",
        "#向右邊旋轉225°\n",
        "turtle.right(225)\n",
        "#設置填充顏色\n",
        "turtle.fillcolor(\"green\")\n",
        "#開始填充顏色\n",
        "turtle.begin_fill()\n",
        "#以爲半徑爲80,圓心角90°畫圓弧\n",
        "turtle.circle(80, 90)\n",
        "turtle.left(90)\n",
        "turtle.circle(80, 90)\n",
        "#結束顏色填充\n",
        "turtle.end_fill()\n",
        "turtle.left(135)\n",
        "turtle.fd(110)\n",
        "turtle.left(180)\n",
        "turtle.fd(110)\n",
        "turtle.right(60)\n",
        "turtle.circle(100,60)\n",
        "#開始事件循環，調用Tkinter的mainloop函數，如果不加該函數，畫完之後會自動結束程序\n",
        "turtle.done()"
      ],
      "metadata": {
        "id": "XP01OsCd5w6I"
      },
      "execution_count": null,
      "outputs": []
    },
    {
      "cell_type": "code",
      "source": [
        "from matplotlib.patches import Ellipse, Circle\n",
        "import matplotlib.pyplot as plt\n",
        "\n",
        "def plot_cicle():\n",
        "    fig = plt.figure()\n",
        "    ax = fig.add_subplot(111)\n",
        "\n",
        "    cir1 = Circle(xy = (0.0, 0.0), radius=2, alpha=0.5)\n",
        "    ax.add_patch(cir1)\n",
        "\n",
        "    x, y = 0, 0\n",
        "    ax.plot(x, y, 'ro')\n",
        "\n",
        "    plt.axis('scaled')\n",
        "    plt.axis('equal')   #changes limits of x or y axis so that equal increments of x and y have the same length\n",
        "\n",
        "    plt.show()\n",
        " \n",
        "plot_cicle()"
      ],
      "metadata": {
        "id": "XjAwELL_5w8l"
      },
      "execution_count": null,
      "outputs": []
    },
    {
      "cell_type": "code",
      "execution_count": 2,
      "metadata": {
        "colab": {
          "base_uri": "https://localhost:8080/",
          "height": 320
        },
        "id": "vhxId2w73O5D",
        "outputId": "8fb9a6a3-0796-4f36-f313-4fa2ae2f0cf5"
      },
      "outputs": [
        {
          "output_type": "display_data",
          "data": {
            "image/png": "[encoded data removed]",
            "text/plain": [
              "<Figure size 360x360 with 1 Axes>"
            ]
          },
          "metadata": {
            "needs_background": "light"
          }
        }
      ],
      "source": [
        "import matplotlib.pyplot as plt\n",
        "\n",
        "# 参数设置\n",
        "x = 5  # 圆心的x轴坐标\n",
        "y = 5  # 圆心的y轴坐标\n",
        "r = 3  # 圆的半径\n",
        "\n",
        "# 画圆\n",
        "fig = plt.figure(figsize=(5, 5))\n",
        "\n",
        "circle = plt.Circle((x, y), r, color='y', fill=False)\n",
        "plt.gcf().gca().add_artist(circle)\n",
        "\n",
        "plt.axis('equal')\n",
        "plt.xlim(0, 10)\n",
        "plt.ylim(0, 10)\n",
        "plt.show()\n",
        "\n",
        "# https://www.zhihu.com/question/317231213/answer/634001065\n"
      ]
    },
    {
      "cell_type": "code",
      "source": [
        "import matplotlib.pyplot as plt\n",
        "\n",
        "# 参数设置\n",
        "x = 5  # 圆心的x轴坐标\n",
        "y = 5  # 圆心的y轴坐标\n",
        "r = 3  # 圆的半径\n",
        "\n",
        "# 画圆\n",
        "fig = plt.figure(figsize=(5, 5))\n",
        "\n",
        "circle = plt.Circle((x, y), r, color='y', fill=False)\n",
        "plt.gcf().gca().add_artist(circle)\n",
        "\n",
        "plt.axis('equal')\n",
        "plt.xlim(0, 10)\n",
        "plt.ylim(0, 10)\n",
        "plt.show()\n",
        "\n",
        "# https://www.zhihu.com/question/317231213/answer/634001065"
      ],
      "metadata": {
        "id": "mgpvVKEP3sDs"
      },
      "execution_count": null,
      "outputs": []
    },
    {
      "cell_type": "code",
      "source": [
        "# -*- coding:utf-8 -*-\n",
        "#! python3\n",
        "import numpy as np\n",
        "import matplotlib.pyplot as plt\n",
        "# ==========================================\n",
        "# 圆的基本信息\n",
        "# 1.圆半径\n",
        "r = 2.0\n",
        "# 2.圆心坐标\n",
        "a, b = (0., 0.)\n",
        "# ==========================================\n",
        "# 方法一：参数方程\n",
        "theta = np.arange(0, 2*np.pi, 0.01)\n",
        "x = a + r * np.cos(theta)\n",
        "y = b + r * np.sin(theta)\n",
        "fig = plt.figure() \n",
        "axes = fig.add_subplot(111) \n",
        "axes.plot(x, y)\n",
        "axes.axis('equal')\n",
        "plt.title('www.ai8py.com')\n",
        "# ==========================================\n",
        "# 方法二：标准方程\n",
        "x = np.arange(a-r, a+r, 0.01)\n",
        "y = b + np.sqrt(r**2 - (x - a)**2)\n",
        "fig = plt.figure() #代表一个图形实例\n",
        "axes = fig.add_subplot(111) #绘图网格\n",
        "#plot()二维线画图函数,若y和x为同维向量，则以x为横坐标,y为纵坐标绘制连线图。\n",
        "axes.plot(x, y) # 上半部\n",
        "axes.plot(x, -y) # 下半部\n",
        "plt.axis('equal')#轴对称\n",
        "plt.title('www.ai8py.com')#窗口标题\n",
        "# ==========================================\n",
        "plt.show()"
      ],
      "metadata": {
        "id": "ZLqlPwBl3wcX"
      },
      "execution_count": null,
      "outputs": []
    },
    {
      "cell_type": "code",
      "source": [
        "# !/usr/bin/env python3\n",
        "# -*- coding: utf-8 -*-\n",
        "import turtle\n",
        "def main():\n",
        "    turtle.title('www.ai8py.com')\n",
        "    turtle.circle(100)\n",
        "    turtle.mainloop()\n",
        "if __name__ == '__main__':\n",
        "    main()"
      ],
      "metadata": {
        "id": "i7HkPJg040xk"
      },
      "execution_count": null,
      "outputs": []
    },
    {
      "cell_type": "code",
      "source": [
        "from matplotlib.patches import Ellipse, Circle\n",
        "import matplotlib.pyplot as plt\n",
        "\n",
        "def plot_cicle():\n",
        "    fig = plt.figure()\n",
        "    ax = fig.add_subplot(111)\n",
        "\n",
        "    cir1 = Circle(xy = (0.0, 0.0), radius=2, alpha=0.5)\n",
        "    ax.add_patch(cir1)\n",
        "\n",
        "    x, y = 0, 0\n",
        "    ax.plot(x, y, 'ro')\n",
        "\n",
        "    plt.axis('scaled')\n",
        "    plt.axis('equal')   #changes limits of x or y axis so that equal increments of x and y have the same length\n",
        "\n",
        "    plt.show()\n",
        " \n",
        "plot_cicle()"
      ],
      "metadata": {
        "id": "d4iuHG2z409S"
      },
      "execution_count": null,
      "outputs": []
    },
    {
      "cell_type": "code",
      "source": [
        "%matplotlib notebook\n",
        "import numpy as np\n",
        "import matplotlib.pyplot as plt\n",
        "# a,b分别代表圆心坐标，r代表半径\n",
        "def circle(a,b,r):\n",
        "\tɑ = np.arange(0,2 * np.pi,0.01)\n",
        "\tx = a + r * np.cos(ɑ)\n",
        "\ty = b + r * np.sin (ɑ)\n",
        "\tfig = plt.figure()\n",
        "\tax = fig.add_subplot(111)\n",
        "\tplt.plot(x,y)\n",
        "\tplt.axis('scaled')\n",
        "\tplt.show()\n",
        "circle(2,2,2)"
      ],
      "metadata": {
        "id": "1C3D4c5H41D1"
      },
      "execution_count": null,
      "outputs": []
    },
    {
      "cell_type": "code",
      "source": [
        "import numpy as np\n",
        "import cv2\n",
        "\n",
        "# 製作黑色底圖\n",
        "img = np.zeros((512,512,3), np.uint8)\n",
        "\n",
        "# 畫粗度為7的紅色線\n",
        "img = cv2.line(img, (511,0), (0,511), (0,0,255), 7)\n",
        "\n",
        "# 顯示圖片\n",
        "cv2.imshow('image',img)\n",
        "\n",
        "# 按任意鍵關閉圖片視窗\n",
        "cv2.waitKey(0)\n",
        "cv2.destroyAllWindows()"
      ],
      "metadata": {
        "id": "SuceM3W041IP"
      },
      "execution_count": null,
      "outputs": []
    },
    {
      "cell_type": "code",
      "source": [
        "img = cv2.rectangle(img, (418,0), (339,478), (0,255,0), 5)"
      ],
      "metadata": {
        "id": "E2aHwcTM41L5"
      },
      "execution_count": null,
      "outputs": []
    },
    {
      "cell_type": "code",
      "source": [
        "img_circle = cv2.circle(img, (378,239), 38, (0,0,225), -1)"
      ],
      "metadata": {
        "id": "GB0dvsUe41PF"
      },
      "execution_count": null,
      "outputs": []
    },
    {
      "cell_type": "code",
      "source": [
        "img = cv2.ellipse(img, (256,256), (70,30), 15, 0, 180, (0,0,255), -1)"
      ],
      "metadata": {
        "id": "2BYyG_VO41Sj"
      },
      "execution_count": null,
      "outputs": []
    },
    {
      "cell_type": "code",
      "source": [
        "pts = np.array([[10, 3], [20, 27], [33, 31], [45, 66], [82, 91]], np.int32)\n",
        "pts = pts.reshape((-1, 1, 2))\n",
        "img = cv2.polylines(img, [pts], True, (0,255,255))"
      ],
      "metadata": {
        "id": "HSy8tfYg41V0"
      },
      "execution_count": null,
      "outputs": []
    },
    {
      "cell_type": "code",
      "source": [
        "font = cv2.FONT_HERSHEY_COMPLEX\n",
        "cv2.putText(img, 'OpenCVCool', (45, 300), font, 2, (255,255,255), 4, cv2.LINE_AA)"
      ],
      "metadata": {
        "id": "dwDI0sTu41aw"
      },
      "execution_count": null,
      "outputs": []
    },
    {
      "cell_type": "code",
      "source": [
        ""
      ],
      "metadata": {
        "id": "B_r3QbLY5qhI"
      },
      "execution_count": null,
      "outputs": []
    },
    {
      "cell_type": "code",
      "source": [
        "from matplotlib.patches import Ellipse, Circle\n",
        "import matplotlib.pyplot as plt\n",
        " \n",
        "def plot_cicle():\n",
        "    fig = plt.figure()\n",
        "    ax = fig.add_subplot(111)\n",
        " \n",
        "    cir1 = Circle(xy = (0.0, 0.0), radius=2, alpha=0.5)\n",
        "    ax.add_patch(cir1)\n",
        " \n",
        "    x, y = 0, 0\n",
        "    ax.plot(x, y, 'ro')\n",
        " \n",
        "    plt.axis('scaled')\n",
        "    plt.axis('equal')   #changes limits of x or y axis so that equal increments of x and y have the same length\n",
        " \n",
        "    plt.show()\n",
        "  \n",
        "plot_cicle()"
      ],
      "metadata": {
        "id": "G1iHeoYx3wp7"
      },
      "execution_count": null,
      "outputs": []
    },
    {
      "cell_type": "code",
      "source": [
        "circle1 = plt.Circle((0, 0), 2, color='r')\n",
        "# now make a circle with no fill, which is good for hi-lighting key results\n",
        "circle2 = plt.Circle((5, 5), 0.5, color='b', fill=False)\n",
        "circle3 = plt.Circle((10, 10), 2, color='g', clip_on=False)\n",
        "\n",
        "ax = plt.gca()\n",
        "ax.cla() # clear things for fresh plot\n",
        "\n",
        "# change default range so that new circles will work\n",
        "ax.set_xlim((0, 10))\n",
        "ax.set_ylim((0, 10))\n",
        "# some data\n",
        "ax.plot(range(11), 'o', color='black')\n",
        "# key data point that we are encircling\n",
        "ax.plot((5), (5), 'o', color='y')\n",
        "\n",
        "ax.add_artist(circle1)\n",
        "ax.add_artist(circle2)\n",
        "ax.add_artist(circle3)\n",
        "fig.savefig('plotcircles2.png')"
      ],
      "metadata": {
        "id": "NiwOmHL_3w4K"
      },
      "execution_count": null,
      "outputs": []
    },
    {
      "cell_type": "code",
      "source": [
        "import matplotlib.pyplot as plt\n",
        "\n",
        "circle1 = plt.Circle((0, 0), 0.2, color='r')\n",
        "circle2 = plt.Circle((0.5, 0.5), 0.2, color='blue')\n",
        "circle3 = plt.Circle((1, 1), 0.2, color='g', clip_on=False)\n",
        "\n",
        "fig, ax = plt.subplots() # note we must use plt.subplots, not plt.subplot\n",
        "# (or if you have an existing figure)\n",
        "# fig = plt.gcf()\n",
        "# ax = fig.gca()\n",
        "\n",
        "ax.add_artist(circle1)\n",
        "ax.add_artist(circle2)\n",
        "ax.add_artist(circle3)\n",
        "\n",
        "fig.savefig('plotcircles.png')"
      ],
      "metadata": {
        "id": "9zqW0NAU3w8S"
      },
      "execution_count": null,
      "outputs": []
    },
    {
      "cell_type": "code",
      "source": [
        "import matplotlib.pyplot as plt\n",
        "circle=plt.Circle((0,0),2)\n",
        "# here must be something like circle.plot() or not?\n",
        "plt.show()"
      ],
      "metadata": {
        "id": "aRt0cMge3w_C"
      },
      "execution_count": null,
      "outputs": []
    },
    {
      "cell_type": "code",
      "source": [
        "# -*- coding:utf-8 -*-\n",
        "#! python3\n",
        "import numpy as np\n",
        "import matplotlib.pyplot as plt\n",
        "# ==========================================\n",
        "# 圓的基本資訊\n",
        "# 1.圓半徑\n",
        "r = 2.0\n",
        "# 2.圓心座標\n",
        "a, b = (0., 0.)\n",
        "# ==========================================\n",
        "# 方法一：引數方程\n",
        "theta = np.arange(0, 2*np.pi, 0.01)\n",
        "x = a + r * np.cos(theta)\n",
        "y = b + r * np.sin(theta)\n",
        "fig = plt.figure() \n",
        "axes = fig.add_subplot(111) \n",
        "axes.plot(x, y)\n",
        "axes.axis('equal')\n",
        "plt.title('www.itread01.com')\n",
        "# ==========================================\n",
        "# 方法二：標準方程\n",
        "x = np.arange(a-r, a+r, 0.01)\n",
        "y = b + np.sqrt(r**2 - (x - a)**2)\n",
        "fig = plt.figure() \n",
        "axes = fig.add_subplot(111) \n",
        "axes.plot(x, y) # 上半部\n",
        "axes.plot(x, -y) # 下半部\n",
        "plt.axis('equal')\n",
        "plt.title('www.itread01.com')\n",
        "# ==========================================\n",
        "plt.show()"
      ],
      "metadata": {
        "id": "2FyD6SFE3xCB"
      },
      "execution_count": null,
      "outputs": []
    },
    {
      "cell_type": "code",
      "source": [
        "import numpy as np\n",
        "import matplotlib.pyplot as plt\n",
        "\n",
        "# 1.圓半徑\n",
        "r = 2.0\n",
        "# 2.圓心座標\n",
        "a, b = (0., 0.)\n",
        "# 參數方程\n",
        "theta = np.arange(0, 2*np.pi, 0.01)\n",
        "x = a + r * np.cos(theta)\n",
        "y = b + r * np.sin(theta)\n",
        "#繪圖\n",
        "fig = plt.figure()\n",
        "axes = fig.add_subplot(111)\n",
        "axes.plot(x, y)\n",
        "axes.axis('equal')\n",
        "plt.show()"
      ],
      "metadata": {
        "id": "rgrP-Bgq3xE_"
      },
      "execution_count": null,
      "outputs": []
    },
    {
      "cell_type": "code",
      "source": [
        "# -*- coding:utf-8 -*-\n",
        "#! python3\n",
        "import numpy as np\n",
        "import matplotlib.pyplot as plt\n",
        "# ==========================================\n",
        "# 圓的基本資訊\n",
        "# 1.圓半徑\n",
        "r = 2.0\n",
        "# 2.圓心座標\n",
        "a, b = (0., 0.)\n",
        "# ==========================================\n",
        "# 方法一：引數方程\n",
        "theta = np.arange(0, 2*np.pi, 0.01)\n",
        "x = a   r * np.cos(theta)\n",
        "y = b   r * np.sin(theta)\n",
        "fig = plt.figure() \n",
        "axes = fig.add_subplot(111) \n",
        "axes.plot(x, y)\n",
        "axes.axis('equal')\n",
        "plt.title('www.jb51.net')\n",
        "# ==========================================\n",
        "# 方法二：標準方程\n",
        "x = np.arange(a-r, a r, 0.01)\n",
        "y = b   np.sqrt(r**2 - (x - a)**2)\n",
        "fig = plt.figure() \n",
        "axes = fig.add_subplot(111) \n",
        "axes.plot(x, y) # 上半部\n",
        "axes.plot(x, -y) # 下半部\n",
        "plt.axis('equal')\n",
        "plt.title('www.jb51.net')\n",
        "# ==========================================\n",
        "plt.show()"
      ],
      "metadata": {
        "id": "OmGfkp_c3xH8"
      },
      "execution_count": null,
      "outputs": []
    },
    {
      "cell_type": "code",
      "source": [
        "import numpy as np\n",
        "import matplotlib.pyplot as plt\n",
        "\n",
        "theta = np.linspace(0, 2 * np.pi, 200)\n",
        "x = np.cos(theta)\n",
        "y = np.sin(theta)\n",
        "fig, ax = plt.subplots(figsize=(4, 4))\n",
        "ax.plot(x, y, color=\"darkred\", linewidth=2)\n",
        "ax.xaxis.set_major_locator(plt.NullLocator()) # 删除x轴刻度，如需显示x轴刻度注释该行代码即可。\n",
        "ax.yaxis.set_major_locator(plt.NullLocator()) # 删除y轴刻度，如需显示y轴刻度注释该行代码即可。\n",
        "ax.axis(\"equal\")\n",
        "\n",
        "\n",
        "# 链接：https://www.zhihu.com/question/317231213/answer/631026825\n"
      ],
      "metadata": {
        "id": "5hZjVVti3xKZ"
      },
      "execution_count": null,
      "outputs": []
    },
    {
      "cell_type": "code",
      "source": [
        "import numpy as np\n",
        "import matplotlib.pyplot as plt\n",
        "from mpl_toolkits.mplot3d import Axes3D\n",
        "\n",
        "fig = plt.figure(figsize=(6, 5))\n",
        "ax = Axes3D(fig)\n",
        "u = np.linspace(0, 2 * np.pi, 100)\n",
        "v = np.linspace(0, np.pi, 100)\n",
        "u, v = np.meshgrid(u, v)\n",
        "X = np.sin(v) * np.cos(u)\n",
        "Y = np.sin(v) * np.sin(u)\n",
        "Z = np.cos(v)\n",
        "ax.plot_surface(X, Y, Z, cmap='rainbow')\n",
        "# 去除刻度\n",
        "ax.xaxis.set_major_locator(plt.NullLocator())\n",
        "ax.yaxis.set_major_locator(plt.NullLocator())\n",
        "ax.zaxis.set_major_locator(plt.NullLocator())\n",
        "\n",
        "\n",
        "# 链接：https://www.zhihu.com/question/317231213/answer/631026825\n"
      ],
      "metadata": {
        "id": "oRgSn3lB3xNr"
      },
      "execution_count": null,
      "outputs": []
    }
  ]
}